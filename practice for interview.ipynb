{
 "cells": [
  {
   "cell_type": "code",
   "execution_count": 25,
   "metadata": {},
   "outputs": [],
   "source": [
    "import numpy as np\n",
    "import pandas as pd\n",
    "import os"
   ]
  },
  {
   "cell_type": "code",
   "execution_count": 26,
   "metadata": {},
   "outputs": [
    {
     "data": {
      "text/plain": [
       "array([0, 1, 2, 3, 4, 5, 6, 7, 8, 9])"
      ]
     },
     "execution_count": 26,
     "metadata": {},
     "output_type": "execute_result"
    }
   ],
   "source": [
    "np.arange(10)"
   ]
  },
  {
   "cell_type": "code",
   "execution_count": 27,
   "metadata": {},
   "outputs": [
    {
     "data": {
      "text/plain": [
       "numpy.ndarray"
      ]
     },
     "execution_count": 27,
     "metadata": {},
     "output_type": "execute_result"
    }
   ],
   "source": [
    "type(np.arange(20))"
   ]
  },
  {
   "cell_type": "code",
   "execution_count": 28,
   "metadata": {},
   "outputs": [],
   "source": [
    "lis=['nirmal',1,2,3]"
   ]
  },
  {
   "cell_type": "code",
   "execution_count": 29,
   "metadata": {},
   "outputs": [
    {
     "data": {
      "text/plain": [
       "list"
      ]
     },
     "execution_count": 29,
     "metadata": {},
     "output_type": "execute_result"
    }
   ],
   "source": [
    "type(lis)"
   ]
  },
  {
   "cell_type": "code",
   "execution_count": 30,
   "metadata": {},
   "outputs": [],
   "source": [
    "mat = np.matrix('1 2 3; 3,4,5')"
   ]
  },
  {
   "cell_type": "code",
   "execution_count": 31,
   "metadata": {},
   "outputs": [
    {
     "data": {
      "text/plain": [
       "matrix([[1, 2, 3],\n",
       "        [3, 4, 5]])"
      ]
     },
     "execution_count": 31,
     "metadata": {},
     "output_type": "execute_result"
    }
   ],
   "source": [
    "mat"
   ]
  },
  {
   "cell_type": "code",
   "execution_count": 32,
   "metadata": {},
   "outputs": [
    {
     "data": {
      "text/plain": [
       "numpy.matrixlib.defmatrix.matrix"
      ]
     },
     "execution_count": 32,
     "metadata": {},
     "output_type": "execute_result"
    }
   ],
   "source": [
    "type(mat)"
   ]
  },
  {
   "cell_type": "code",
   "execution_count": 33,
   "metadata": {},
   "outputs": [
    {
     "data": {
      "text/plain": [
       "numpy.matrixlib.defmatrix.matrix"
      ]
     },
     "execution_count": 33,
     "metadata": {},
     "output_type": "execute_result"
    }
   ],
   "source": [
    "np.matrix"
   ]
  },
  {
   "cell_type": "markdown",
   "metadata": {},
   "source": [
    "### sorting algorithm"
   ]
  },
  {
   "cell_type": "code",
   "execution_count": 34,
   "metadata": {},
   "outputs": [
    {
     "data": {
      "text/plain": [
       "[1, 2, 3, 4, 5, 7]"
      ]
     },
     "execution_count": 34,
     "metadata": {},
     "output_type": "execute_result"
    }
   ],
   "source": [
    "lis=[1,4,3,7,2,5]\n",
    "new=[]\n",
    "while lis:\n",
    "    a=lis[0]\n",
    "    for i in lis:\n",
    "        if i<a:\n",
    "            a=i\n",
    "    new.append(a)\n",
    "    lis.remove(a)\n",
    "new"
   ]
  },
  {
   "cell_type": "code",
   "execution_count": 35,
   "metadata": {},
   "outputs": [
    {
     "data": {
      "text/plain": [
       "[1, 2, 3, 4, 5, 7]"
      ]
     },
     "execution_count": 35,
     "metadata": {},
     "output_type": "execute_result"
    }
   ],
   "source": [
    "lis=[1,4,3,7,2,5]\n",
    "for i in range(len(lis)):\n",
    "    for j in range(i+1,len(lis)):\n",
    "        if lis[i]>lis[j]:\n",
    "            lis[i],lis[j]=lis[j],lis[i]\n",
    "lis"
   ]
  },
  {
   "cell_type": "code",
   "execution_count": 36,
   "metadata": {},
   "outputs": [
    {
     "data": {
      "text/plain": [
       "'NIRMAL SILWAL'"
      ]
     },
     "execution_count": 36,
     "metadata": {},
     "output_type": "execute_result"
    }
   ],
   "source": [
    "name='Nirmal Silwal'\n",
    "name.upper()"
   ]
  },
  {
   "cell_type": "code",
   "execution_count": 24,
   "metadata": {},
   "outputs": [
    {
     "name": "stdout",
     "output_type": "stream",
     "text": [
      "enter your name: Nirmal Silwal\n",
      "total upper alphabet in your name is: 2\n"
     ]
    }
   ],
   "source": [
    "name=input('enter your name: ')\n",
    "sum=0\n",
    "for i in name:\n",
    "    if i.isupper():\n",
    "        sum+=1\n",
    "print('total upper alphabet in your name is: {}'.format(sum))        "
   ]
  },
  {
   "cell_type": "code",
   "execution_count": 37,
   "metadata": {},
   "outputs": [
    {
     "data": {
      "text/plain": [
       "matrix([[1, 2, 3],\n",
       "        [3, 4, 5]])"
      ]
     },
     "execution_count": 37,
     "metadata": {},
     "output_type": "execute_result"
    }
   ],
   "source": [
    "mat"
   ]
  },
  {
   "cell_type": "code",
   "execution_count": 39,
   "metadata": {},
   "outputs": [
    {
     "data": {
      "text/plain": [
       "matrix([[1, 3],\n",
       "        [2, 4],\n",
       "        [3, 5]])"
      ]
     },
     "execution_count": 39,
     "metadata": {},
     "output_type": "execute_result"
    }
   ],
   "source": [
    "np.transpose(mat)"
   ]
  },
  {
   "cell_type": "code",
   "execution_count": 40,
   "metadata": {},
   "outputs": [
    {
     "data": {
      "text/plain": [
       "matrix([[ 2,  4,  6],\n",
       "        [ 6,  8, 10]])"
      ]
     },
     "execution_count": 40,
     "metadata": {},
     "output_type": "execute_result"
    }
   ],
   "source": [
    "mat*2"
   ]
  },
  {
   "cell_type": "code",
   "execution_count": 41,
   "metadata": {},
   "outputs": [
    {
     "data": {
      "text/plain": [
       "matrix([[0.5, 1. , 1.5],\n",
       "        [1.5, 2. , 2.5]])"
      ]
     },
     "execution_count": 41,
     "metadata": {},
     "output_type": "execute_result"
    }
   ],
   "source": [
    "mat/2"
   ]
  },
  {
   "cell_type": "code",
   "execution_count": 42,
   "metadata": {},
   "outputs": [
    {
     "data": {
      "text/plain": [
       "matrix([[3, 4, 5],\n",
       "        [5, 6, 7]])"
      ]
     },
     "execution_count": 42,
     "metadata": {},
     "output_type": "execute_result"
    }
   ],
   "source": [
    "mat+2"
   ]
  },
  {
   "cell_type": "code",
   "execution_count": 44,
   "metadata": {},
   "outputs": [],
   "source": [
    "df = pd.DataFrame({'Name':['Nirmal','Rohit','Sahil'],\n",
    "                  'Age':[22,23,24],\n",
    "                  'Address':['Kurintar','Mumbai','Pune']})"
   ]
  },
  {
   "cell_type": "code",
   "execution_count": 45,
   "metadata": {},
   "outputs": [
    {
     "data": {
      "text/html": [
       "<div>\n",
       "<style scoped>\n",
       "    .dataframe tbody tr th:only-of-type {\n",
       "        vertical-align: middle;\n",
       "    }\n",
       "\n",
       "    .dataframe tbody tr th {\n",
       "        vertical-align: top;\n",
       "    }\n",
       "\n",
       "    .dataframe thead th {\n",
       "        text-align: right;\n",
       "    }\n",
       "</style>\n",
       "<table border=\"1\" class=\"dataframe\">\n",
       "  <thead>\n",
       "    <tr style=\"text-align: right;\">\n",
       "      <th></th>\n",
       "      <th>Name</th>\n",
       "      <th>Age</th>\n",
       "      <th>Address</th>\n",
       "    </tr>\n",
       "  </thead>\n",
       "  <tbody>\n",
       "    <tr>\n",
       "      <th>0</th>\n",
       "      <td>Nirmal</td>\n",
       "      <td>22</td>\n",
       "      <td>Kurintar</td>\n",
       "    </tr>\n",
       "    <tr>\n",
       "      <th>1</th>\n",
       "      <td>Rohit</td>\n",
       "      <td>23</td>\n",
       "      <td>Mumbai</td>\n",
       "    </tr>\n",
       "    <tr>\n",
       "      <th>2</th>\n",
       "      <td>Sahil</td>\n",
       "      <td>24</td>\n",
       "      <td>Pune</td>\n",
       "    </tr>\n",
       "  </tbody>\n",
       "</table>\n",
       "</div>"
      ],
      "text/plain": [
       "     Name  Age   Address\n",
       "0  Nirmal   22  Kurintar\n",
       "1   Rohit   23    Mumbai\n",
       "2   Sahil   24      Pune"
      ]
     },
     "execution_count": 45,
     "metadata": {},
     "output_type": "execute_result"
    }
   ],
   "source": [
    "df"
   ]
  },
  {
   "cell_type": "code",
   "execution_count": 46,
   "metadata": {},
   "outputs": [
    {
     "data": {
      "text/plain": [
       "pandas.core.frame.DataFrame"
      ]
     },
     "execution_count": 46,
     "metadata": {},
     "output_type": "execute_result"
    }
   ],
   "source": [
    "type(df)"
   ]
  },
  {
   "cell_type": "code",
   "execution_count": 50,
   "metadata": {},
   "outputs": [
    {
     "data": {
      "text/html": [
       "<div>\n",
       "<style scoped>\n",
       "    .dataframe tbody tr th:only-of-type {\n",
       "        vertical-align: middle;\n",
       "    }\n",
       "\n",
       "    .dataframe tbody tr th {\n",
       "        vertical-align: top;\n",
       "    }\n",
       "\n",
       "    .dataframe thead th {\n",
       "        text-align: right;\n",
       "    }\n",
       "</style>\n",
       "<table border=\"1\" class=\"dataframe\">\n",
       "  <thead>\n",
       "    <tr style=\"text-align: right;\">\n",
       "      <th></th>\n",
       "      <th>Name</th>\n",
       "      <th>Umar</th>\n",
       "      <th>pata</th>\n",
       "    </tr>\n",
       "  </thead>\n",
       "  <tbody>\n",
       "    <tr>\n",
       "      <th>0</th>\n",
       "      <td>Nirmal</td>\n",
       "      <td>22</td>\n",
       "      <td>Kurintar</td>\n",
       "    </tr>\n",
       "    <tr>\n",
       "      <th>1</th>\n",
       "      <td>Rohit</td>\n",
       "      <td>23</td>\n",
       "      <td>Mumbai</td>\n",
       "    </tr>\n",
       "    <tr>\n",
       "      <th>2</th>\n",
       "      <td>Sahil</td>\n",
       "      <td>24</td>\n",
       "      <td>Pune</td>\n",
       "    </tr>\n",
       "  </tbody>\n",
       "</table>\n",
       "</div>"
      ],
      "text/plain": [
       "     Name  Umar      pata\n",
       "0  Nirmal    22  Kurintar\n",
       "1   Rohit    23    Mumbai\n",
       "2   Sahil    24      Pune"
      ]
     },
     "execution_count": 50,
     "metadata": {},
     "output_type": "execute_result"
    }
   ],
   "source": [
    "df.rename(columns={'Age':'Umar','Address':'pata'})\n",
    "#note that it is not changing permanently"
   ]
  },
  {
   "cell_type": "code",
   "execution_count": 51,
   "metadata": {},
   "outputs": [
    {
     "data": {
      "text/html": [
       "<div>\n",
       "<style scoped>\n",
       "    .dataframe tbody tr th:only-of-type {\n",
       "        vertical-align: middle;\n",
       "    }\n",
       "\n",
       "    .dataframe tbody tr th {\n",
       "        vertical-align: top;\n",
       "    }\n",
       "\n",
       "    .dataframe thead th {\n",
       "        text-align: right;\n",
       "    }\n",
       "</style>\n",
       "<table border=\"1\" class=\"dataframe\">\n",
       "  <thead>\n",
       "    <tr style=\"text-align: right;\">\n",
       "      <th></th>\n",
       "      <th>Name</th>\n",
       "      <th>Age</th>\n",
       "      <th>Address</th>\n",
       "    </tr>\n",
       "  </thead>\n",
       "  <tbody>\n",
       "    <tr>\n",
       "      <th>0</th>\n",
       "      <td>Nirmal</td>\n",
       "      <td>22</td>\n",
       "      <td>Kurintar</td>\n",
       "    </tr>\n",
       "    <tr>\n",
       "      <th>1</th>\n",
       "      <td>Rohit</td>\n",
       "      <td>23</td>\n",
       "      <td>Mumbai</td>\n",
       "    </tr>\n",
       "    <tr>\n",
       "      <th>2</th>\n",
       "      <td>Sahil</td>\n",
       "      <td>24</td>\n",
       "      <td>Pune</td>\n",
       "    </tr>\n",
       "  </tbody>\n",
       "</table>\n",
       "</div>"
      ],
      "text/plain": [
       "     Name  Age   Address\n",
       "0  Nirmal   22  Kurintar\n",
       "1   Rohit   23    Mumbai\n",
       "2   Sahil   24      Pune"
      ]
     },
     "execution_count": 51,
     "metadata": {},
     "output_type": "execute_result"
    }
   ],
   "source": [
    "df"
   ]
  },
  {
   "cell_type": "code",
   "execution_count": 70,
   "metadata": {},
   "outputs": [],
   "source": [
    "import seaborn as sns"
   ]
  },
  {
   "cell_type": "code",
   "execution_count": 55,
   "metadata": {},
   "outputs": [],
   "source": [
    "iris = sns.load_dataset('iris')"
   ]
  },
  {
   "cell_type": "code",
   "execution_count": 58,
   "metadata": {},
   "outputs": [
    {
     "data": {
      "text/html": [
       "<div>\n",
       "<style scoped>\n",
       "    .dataframe tbody tr th:only-of-type {\n",
       "        vertical-align: middle;\n",
       "    }\n",
       "\n",
       "    .dataframe tbody tr th {\n",
       "        vertical-align: top;\n",
       "    }\n",
       "\n",
       "    .dataframe thead th {\n",
       "        text-align: right;\n",
       "    }\n",
       "</style>\n",
       "<table border=\"1\" class=\"dataframe\">\n",
       "  <thead>\n",
       "    <tr style=\"text-align: right;\">\n",
       "      <th></th>\n",
       "      <th>sepal_length</th>\n",
       "      <th>sepal_width</th>\n",
       "      <th>petal_length</th>\n",
       "      <th>petal_width</th>\n",
       "      <th>species</th>\n",
       "    </tr>\n",
       "  </thead>\n",
       "  <tbody>\n",
       "    <tr>\n",
       "      <th>0</th>\n",
       "      <td>5.1</td>\n",
       "      <td>3.5</td>\n",
       "      <td>1.4</td>\n",
       "      <td>0.2</td>\n",
       "      <td>setosa</td>\n",
       "    </tr>\n",
       "    <tr>\n",
       "      <th>1</th>\n",
       "      <td>4.9</td>\n",
       "      <td>3.0</td>\n",
       "      <td>1.4</td>\n",
       "      <td>0.2</td>\n",
       "      <td>setosa</td>\n",
       "    </tr>\n",
       "    <tr>\n",
       "      <th>2</th>\n",
       "      <td>4.7</td>\n",
       "      <td>3.2</td>\n",
       "      <td>1.3</td>\n",
       "      <td>0.2</td>\n",
       "      <td>setosa</td>\n",
       "    </tr>\n",
       "    <tr>\n",
       "      <th>3</th>\n",
       "      <td>4.6</td>\n",
       "      <td>3.1</td>\n",
       "      <td>1.5</td>\n",
       "      <td>0.2</td>\n",
       "      <td>setosa</td>\n",
       "    </tr>\n",
       "    <tr>\n",
       "      <th>4</th>\n",
       "      <td>5.0</td>\n",
       "      <td>3.6</td>\n",
       "      <td>1.4</td>\n",
       "      <td>0.2</td>\n",
       "      <td>setosa</td>\n",
       "    </tr>\n",
       "  </tbody>\n",
       "</table>\n",
       "</div>"
      ],
      "text/plain": [
       "   sepal_length  sepal_width  petal_length  petal_width species\n",
       "0           5.1          3.5           1.4          0.2  setosa\n",
       "1           4.9          3.0           1.4          0.2  setosa\n",
       "2           4.7          3.2           1.3          0.2  setosa\n",
       "3           4.6          3.1           1.5          0.2  setosa\n",
       "4           5.0          3.6           1.4          0.2  setosa"
      ]
     },
     "execution_count": 58,
     "metadata": {},
     "output_type": "execute_result"
    }
   ],
   "source": [
    "iris.head()"
   ]
  },
  {
   "cell_type": "code",
   "execution_count": 59,
   "metadata": {},
   "outputs": [
    {
     "data": {
      "text/plain": [
       "pandas.core.frame.DataFrame"
      ]
     },
     "execution_count": 59,
     "metadata": {},
     "output_type": "execute_result"
    }
   ],
   "source": [
    "type(iris)"
   ]
  },
  {
   "cell_type": "markdown",
   "metadata": {},
   "source": [
    "# Ecommerce customers project"
   ]
  },
  {
   "cell_type": "code",
   "execution_count": 64,
   "metadata": {},
   "outputs": [],
   "source": [
    "edata = pd.read_csv('EcommerceCustomers')"
   ]
  },
  {
   "cell_type": "code",
   "execution_count": 65,
   "metadata": {},
   "outputs": [
    {
     "data": {
      "text/plain": [
       "(500, 8)"
      ]
     },
     "execution_count": 65,
     "metadata": {},
     "output_type": "execute_result"
    }
   ],
   "source": [
    "edata.shape"
   ]
  },
  {
   "cell_type": "code",
   "execution_count": 66,
   "metadata": {
    "scrolled": true
   },
   "outputs": [
    {
     "data": {
      "text/html": [
       "<div>\n",
       "<style scoped>\n",
       "    .dataframe tbody tr th:only-of-type {\n",
       "        vertical-align: middle;\n",
       "    }\n",
       "\n",
       "    .dataframe tbody tr th {\n",
       "        vertical-align: top;\n",
       "    }\n",
       "\n",
       "    .dataframe thead th {\n",
       "        text-align: right;\n",
       "    }\n",
       "</style>\n",
       "<table border=\"1\" class=\"dataframe\">\n",
       "  <thead>\n",
       "    <tr style=\"text-align: right;\">\n",
       "      <th></th>\n",
       "      <th>Email</th>\n",
       "      <th>Address</th>\n",
       "      <th>Avatar</th>\n",
       "      <th>Avg. Session Length</th>\n",
       "      <th>Time on App</th>\n",
       "      <th>Time on Website</th>\n",
       "      <th>Length of Membership</th>\n",
       "      <th>Yearly Amount Spent</th>\n",
       "    </tr>\n",
       "  </thead>\n",
       "  <tbody>\n",
       "    <tr>\n",
       "      <th>0</th>\n",
       "      <td>mstephenson@fernandez.com</td>\n",
       "      <td>835 Frank Tunnel\\nWrightmouth, MI 82180-9605</td>\n",
       "      <td>Violet</td>\n",
       "      <td>34.497268</td>\n",
       "      <td>12.655651</td>\n",
       "      <td>39.577668</td>\n",
       "      <td>4.082621</td>\n",
       "      <td>587.951054</td>\n",
       "    </tr>\n",
       "    <tr>\n",
       "      <th>1</th>\n",
       "      <td>hduke@hotmail.com</td>\n",
       "      <td>4547 Archer Common\\nDiazchester, CA 06566-8576</td>\n",
       "      <td>DarkGreen</td>\n",
       "      <td>31.926272</td>\n",
       "      <td>11.109461</td>\n",
       "      <td>37.268959</td>\n",
       "      <td>2.664034</td>\n",
       "      <td>392.204933</td>\n",
       "    </tr>\n",
       "    <tr>\n",
       "      <th>2</th>\n",
       "      <td>pallen@yahoo.com</td>\n",
       "      <td>24645 Valerie Unions Suite 582\\nCobbborough, D...</td>\n",
       "      <td>Bisque</td>\n",
       "      <td>33.000915</td>\n",
       "      <td>11.330278</td>\n",
       "      <td>37.110597</td>\n",
       "      <td>4.104543</td>\n",
       "      <td>487.547505</td>\n",
       "    </tr>\n",
       "    <tr>\n",
       "      <th>3</th>\n",
       "      <td>riverarebecca@gmail.com</td>\n",
       "      <td>1414 David Throughway\\nPort Jason, OH 22070-1220</td>\n",
       "      <td>SaddleBrown</td>\n",
       "      <td>34.305557</td>\n",
       "      <td>13.717514</td>\n",
       "      <td>36.721283</td>\n",
       "      <td>3.120179</td>\n",
       "      <td>581.852344</td>\n",
       "    </tr>\n",
       "    <tr>\n",
       "      <th>4</th>\n",
       "      <td>mstephens@davidson-herman.com</td>\n",
       "      <td>14023 Rodriguez Passage\\nPort Jacobville, PR 3...</td>\n",
       "      <td>MediumAquaMarine</td>\n",
       "      <td>33.330673</td>\n",
       "      <td>12.795189</td>\n",
       "      <td>37.536653</td>\n",
       "      <td>4.446308</td>\n",
       "      <td>599.406092</td>\n",
       "    </tr>\n",
       "  </tbody>\n",
       "</table>\n",
       "</div>"
      ],
      "text/plain": [
       "                           Email  \\\n",
       "0      mstephenson@fernandez.com   \n",
       "1              hduke@hotmail.com   \n",
       "2               pallen@yahoo.com   \n",
       "3        riverarebecca@gmail.com   \n",
       "4  mstephens@davidson-herman.com   \n",
       "\n",
       "                                             Address            Avatar  \\\n",
       "0       835 Frank Tunnel\\nWrightmouth, MI 82180-9605            Violet   \n",
       "1     4547 Archer Common\\nDiazchester, CA 06566-8576         DarkGreen   \n",
       "2  24645 Valerie Unions Suite 582\\nCobbborough, D...            Bisque   \n",
       "3   1414 David Throughway\\nPort Jason, OH 22070-1220       SaddleBrown   \n",
       "4  14023 Rodriguez Passage\\nPort Jacobville, PR 3...  MediumAquaMarine   \n",
       "\n",
       "   Avg. Session Length  Time on App  Time on Website  Length of Membership  \\\n",
       "0            34.497268    12.655651        39.577668              4.082621   \n",
       "1            31.926272    11.109461        37.268959              2.664034   \n",
       "2            33.000915    11.330278        37.110597              4.104543   \n",
       "3            34.305557    13.717514        36.721283              3.120179   \n",
       "4            33.330673    12.795189        37.536653              4.446308   \n",
       "\n",
       "   Yearly Amount Spent  \n",
       "0           587.951054  \n",
       "1           392.204933  \n",
       "2           487.547505  \n",
       "3           581.852344  \n",
       "4           599.406092  "
      ]
     },
     "execution_count": 66,
     "metadata": {},
     "output_type": "execute_result"
    }
   ],
   "source": [
    "edata.head()"
   ]
  },
  {
   "cell_type": "code",
   "execution_count": 68,
   "metadata": {},
   "outputs": [
    {
     "data": {
      "text/html": [
       "<div>\n",
       "<style scoped>\n",
       "    .dataframe tbody tr th:only-of-type {\n",
       "        vertical-align: middle;\n",
       "    }\n",
       "\n",
       "    .dataframe tbody tr th {\n",
       "        vertical-align: top;\n",
       "    }\n",
       "\n",
       "    .dataframe thead th {\n",
       "        text-align: right;\n",
       "    }\n",
       "</style>\n",
       "<table border=\"1\" class=\"dataframe\">\n",
       "  <thead>\n",
       "    <tr style=\"text-align: right;\">\n",
       "      <th></th>\n",
       "      <th>Email</th>\n",
       "      <th>Address</th>\n",
       "      <th>Avatar</th>\n",
       "      <th>Avg. Session Length</th>\n",
       "      <th>Time on App</th>\n",
       "      <th>Time on Website</th>\n",
       "      <th>Length of Membership</th>\n",
       "      <th>Yearly Amount Spent</th>\n",
       "    </tr>\n",
       "  </thead>\n",
       "  <tbody>\n",
       "    <tr>\n",
       "      <th>38</th>\n",
       "      <td>cunninghamwilliam@hotmail.com</td>\n",
       "      <td>4589 Dan Fords\\nBeasleyburgh, ME 96590-8272</td>\n",
       "      <td>HoneyDew</td>\n",
       "      <td>32.749368</td>\n",
       "      <td>9.954976</td>\n",
       "      <td>37.388315</td>\n",
       "      <td>4.650491</td>\n",
       "      <td>478.170334</td>\n",
       "    </tr>\n",
       "  </tbody>\n",
       "</table>\n",
       "</div>"
      ],
      "text/plain": [
       "                            Email  \\\n",
       "38  cunninghamwilliam@hotmail.com   \n",
       "\n",
       "                                        Address    Avatar  \\\n",
       "38  4589 Dan Fords\\nBeasleyburgh, ME 96590-8272  HoneyDew   \n",
       "\n",
       "    Avg. Session Length  Time on App  Time on Website  Length of Membership  \\\n",
       "38            32.749368     9.954976        37.388315              4.650491   \n",
       "\n",
       "    Yearly Amount Spent  \n",
       "38           478.170334  "
      ]
     },
     "execution_count": 68,
     "metadata": {},
     "output_type": "execute_result"
    }
   ],
   "source": [
    "edata.sample()"
   ]
  },
  {
   "cell_type": "code",
   "execution_count": 69,
   "metadata": {},
   "outputs": [],
   "source": [
    "import matplotlib.pyplot as plt\n",
    "%matplotlib inline"
   ]
  },
  {
   "cell_type": "code",
   "execution_count": 71,
   "metadata": {},
   "outputs": [
    {
     "data": {
      "text/plain": [
       "Index(['Email', 'Address', 'Avatar', 'Avg. Session Length', 'Time on App',\n",
       "       'Time on Website', 'Length of Membership', 'Yearly Amount Spent'],\n",
       "      dtype='object')"
      ]
     },
     "execution_count": 71,
     "metadata": {},
     "output_type": "execute_result"
    }
   ],
   "source": [
    "edata.columns"
   ]
  },
  {
   "cell_type": "code",
   "execution_count": 72,
   "metadata": {},
   "outputs": [
    {
     "data": {
      "text/plain": [
       "pandas.core.indexes.base.Index"
      ]
     },
     "execution_count": 72,
     "metadata": {},
     "output_type": "execute_result"
    }
   ],
   "source": [
    "type(edata.columns)"
   ]
  },
  {
   "cell_type": "code",
   "execution_count": 118,
   "metadata": {},
   "outputs": [],
   "source": [
    "col=list(edata.columns)"
   ]
  },
  {
   "cell_type": "code",
   "execution_count": 120,
   "metadata": {},
   "outputs": [
    {
     "data": {
      "text/plain": [
       "['Email',\n",
       " 'Address',\n",
       " 'Avatar',\n",
       " 'Avg. Session Length',\n",
       " 'Time on App',\n",
       " 'Time on Website',\n",
       " 'Length of Membership',\n",
       " 'Yearly Amount Spent']"
      ]
     },
     "execution_count": 120,
     "metadata": {},
     "output_type": "execute_result"
    }
   ],
   "source": [
    "col"
   ]
  },
  {
   "cell_type": "code",
   "execution_count": 82,
   "metadata": {},
   "outputs": [
    {
     "data": {
      "text/plain": [
       "2"
      ]
     },
     "execution_count": 82,
     "metadata": {},
     "output_type": "execute_result"
    }
   ],
   "source": [
    "edata.ndim"
   ]
  },
  {
   "cell_type": "code",
   "execution_count": 85,
   "metadata": {},
   "outputs": [
    {
     "data": {
      "image/png": "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