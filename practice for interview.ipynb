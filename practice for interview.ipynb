{
 "cells": [
  {
   "cell_type": "code",
   "execution_count": 25,
   "metadata": {},
   "outputs": [],
   "source": [
    "import numpy as np\n",
    "import pandas as pd\n",
    "import os"
   ]
  },
  {
   "cell_type": "code",
   "execution_count": 26,
   "metadata": {},
   "outputs": [
    {
     "data": {
      "text/plain": [
       "array([0, 1, 2, 3, 4, 5, 6, 7, 8, 9])"
      ]
     },
     "execution_count": 26,
     "metadata": {},
     "output_type": "execute_result"
    }
   ],
   "source": [
    "np.arange(10)"
   ]
  },
  {
   "cell_type": "code",
   "execution_count": 27,
   "metadata": {},
   "outputs": [
    {
     "data": {
      "text/plain": [
       "numpy.ndarray"
      ]
     },
     "execution_count": 27,
     "metadata": {},
     "output_type": "execute_result"
    }
   ],
   "source": [
    "type(np.arange(20))"
   ]
  },
  {
   "cell_type": "code",
   "execution_count": 28,
   "metadata": {},
   "outputs": [],
   "source": [
    "lis=['nirmal',1,2,3]"
   ]
  },
  {
   "cell_type": "code",
   "execution_count": 29,
   "metadata": {},
   "outputs": [
    {
     "data": {
      "text/plain": [
       "list"
      ]
     },
     "execution_count": 29,
     "metadata": {},
     "output_type": "execute_result"
    }
   ],
   "source": [
    "type(lis)"
   ]
  },
  {
   "cell_type": "code",
   "execution_count": 30,
   "metadata": {},
   "outputs": [],
   "source": [
    "mat = np.matrix('1 2 3; 3,4,5')"
   ]
  },
  {
   "cell_type": "code",
   "execution_count": 31,
   "metadata": {},
   "outputs": [
    {
     "data": {
      "text/plain": [
       "matrix([[1, 2, 3],\n",
       "        [3, 4, 5]])"
      ]
     },
     "execution_count": 31,
     "metadata": {},
     "output_type": "execute_result"
    }
   ],
   "source": [
    "mat"
   ]
  },
  {
   "cell_type": "code",
   "execution_count": 32,
   "metadata": {},
   "outputs": [
    {
     "data": {
      "text/plain": [
       "numpy.matrixlib.defmatrix.matrix"
      ]
     },
     "execution_count": 32,
     "metadata": {},
     "output_type": "execute_result"
    }
   ],
   "source": [
    "type(mat)"
   ]
  },
  {
   "cell_type": "code",
   "execution_count": 33,
   "metadata": {},
   "outputs": [
    {
     "data": {
      "text/plain": [
       "numpy.matrixlib.defmatrix.matrix"
      ]
     },
     "execution_count": 33,
     "metadata": {},
     "output_type": "execute_result"
    }
   ],
   "source": [
    "np.matrix"
   ]
  },
  {
   "cell_type": "markdown",
   "metadata": {},
   "source": [
    "### sorting algorithm"
   ]
  },
  {
   "cell_type": "code",
   "execution_count": 34,
   "metadata": {},
   "outputs": [
    {
     "data": {
      "text/plain": [
       "[1, 2, 3, 4, 5, 7]"
      ]
     },
     "execution_count": 34,
     "metadata": {},
     "output_type": "execute_result"
    }
   ],
   "source": [
    "lis=[1,4,3,7,2,5]\n",
    "new=[]\n",
    "while lis:\n",
    "    a=lis[0]\n",
    "    for i in lis:\n",
    "        if i<a:\n",
    "            a=i\n",
    "    new.append(a)\n",
    "    lis.remove(a)\n",
    "new"
   ]
  },
  {
   "cell_type": "code",
   "execution_count": 35,
   "metadata": {},
   "outputs": [
    {
     "data": {
      "text/plain": [
       "[1, 2, 3, 4, 5, 7]"
      ]
     },
     "execution_count": 35,
     "metadata": {},
     "output_type": "execute_result"
    }
   ],
   "source": [
    "lis=[1,4,3,7,2,5]\n",
    "for i in range(len(lis)):\n",
    "    for j in range(i+1,len(lis)):\n",
    "        if lis[i]>lis[j]:\n",
    "            lis[i],lis[j]=lis[j],lis[i]\n",
    "lis"
   ]
  },
  {
   "cell_type": "code",
   "execution_count": 36,
   "metadata": {},
   "outputs": [
    {
     "data": {
      "text/plain": [
       "'NIRMAL SILWAL'"
      ]
     },
     "execution_count": 36,
     "metadata": {},
     "output_type": "execute_result"
    }
   ],
   "source": [
    "name='Nirmal Silwal'\n",
    "name.upper()"
   ]
  },
  {
   "cell_type": "code",
   "execution_count": 24,
   "metadata": {},
   "outputs": [
    {
     "name": "stdout",
     "output_type": "stream",
     "text": [
      "enter your name: Nirmal Silwal\n",
      "total upper alphabet in your name is: 2\n"
     ]
    }
   ],
   "source": [
    "name=input('enter your name: ')\n",
    "sum=0\n",
    "for i in name:\n",
    "    if i.isupper():\n",
    "        sum+=1\n",
    "print('total upper alphabet in your name is: {}'.format(sum))        "
   ]
  },
  {
   "cell_type": "code",
   "execution_count": 37,
   "metadata": {},
   "outputs": [
    {
     "data": {
      "text/plain": [
       "matrix([[1, 2, 3],\n",
       "        [3, 4, 5]])"
      ]
     },
     "execution_count": 37,
     "metadata": {},
     "output_type": "execute_result"
    }
   ],
   "source": [
    "mat"
   ]
  },
  {
   "cell_type": "code",
   "execution_count": 39,
   "metadata": {},
   "outputs": [
    {
     "data": {
      "text/plain": [
       "matrix([[1, 3],\n",
       "        [2, 4],\n",
       "        [3, 5]])"
      ]
     },
     "execution_count": 39,
     "metadata": {},
     "output_type": "execute_result"
    }
   ],
   "source": [
    "np.transpose(mat)"
   ]
  },
  {
   "cell_type": "code",
   "execution_count": 40,
   "metadata": {},
   "outputs": [
    {
     "data": {
      "text/plain": [
       "matrix([[ 2,  4,  6],\n",
       "        [ 6,  8, 10]])"
      ]
     },
     "execution_count": 40,
     "metadata": {},
     "output_type": "execute_result"
    }
   ],
   "source": [
    "mat*2"
   ]
  },
  {
   "cell_type": "code",
   "execution_count": 41,
   "metadata": {},
   "outputs": [
    {
     "data": {
      "text/plain": [
       "matrix([[0.5, 1. , 1.5],\n",
       "        [1.5, 2. , 2.5]])"
      ]
     },
     "execution_count": 41,
     "metadata": {},
     "output_type": "execute_result"
    }
   ],
   "source": [
    "mat/2"
   ]
  },
  {
   "cell_type": "code",
   "execution_count": 42,
   "metadata": {},
   "outputs": [
    {
     "data": {
      "text/plain": [
       "matrix([[3, 4, 5],\n",
       "        [5, 6, 7]])"
      ]
     },
     "execution_count": 42,
     "metadata": {},
     "output_type": "execute_result"
    }
   ],
   "source": [
    "mat+2"
   ]
  },
  {
   "cell_type": "code",
   "execution_count": 44,
   "metadata": {},
   "outputs": [],
   "source": [
    "df = pd.DataFrame({'Name':['Nirmal','Rohit','Sahil'],\n",
    "                  'Age':[22,23,24],\n",
    "                  'Address':['Kurintar','Mumbai','Pune']})"
   ]
  },
  {
   "cell_type": "code",
   "execution_count": 45,
   "metadata": {},
   "outputs": [
    {
     "data": {
      "text/html": [
       "<div>\n",
       "<style scoped>\n",
       "    .dataframe tbody tr th:only-of-type {\n",
       "        vertical-align: middle;\n",
       "    }\n",
       "\n",
       "    .dataframe tbody tr th {\n",
       "        vertical-align: top;\n",
       "    }\n",
       "\n",
       "    .dataframe thead th {\n",
       "        text-align: right;\n",
       "    }\n",
       "</style>\n",
       "<table border=\"1\" class=\"dataframe\">\n",
       "  <thead>\n",
       "    <tr style=\"text-align: right;\">\n",
       "      <th></th>\n",
       "      <th>Name</th>\n",
       "      <th>Age</th>\n",
       "      <th>Address</th>\n",
       "    </tr>\n",
       "  </thead>\n",
       "  <tbody>\n",
       "    <tr>\n",
       "      <th>0</th>\n",
       "      <td>Nirmal</td>\n",
       "      <td>22</td>\n",
       "      <td>Kurintar</td>\n",
       "    </tr>\n",
       "    <tr>\n",
       "      <th>1</th>\n",
       "      <td>Rohit</td>\n",
       "      <td>23</td>\n",
       "      <td>Mumbai</td>\n",
       "    </tr>\n",
       "    <tr>\n",
       "      <th>2</th>\n",
       "      <td>Sahil</td>\n",
       "      <td>24</td>\n",
       "      <td>Pune</td>\n",
       "    </tr>\n",
       "  </tbody>\n",
       "</table>\n",
       "</div>"
      ],
      "text/plain": [
       "     Name  Age   Address\n",
       "0  Nirmal   22  Kurintar\n",
       "1   Rohit   23    Mumbai\n",
       "2   Sahil   24      Pune"
      ]
     },
     "execution_count": 45,
     "metadata": {},
     "output_type": "execute_result"
    }
   ],
   "source": [
    "df"
   ]
  },
  {
   "cell_type": "code",
   "execution_count": 46,
   "metadata": {},
   "outputs": [
    {
     "data": {
      "text/plain": [
       "pandas.core.frame.DataFrame"
      ]
     },
     "execution_count": 46,
     "metadata": {},
     "output_type": "execute_result"
    }
   ],
   "source": [
    "type(df)"
   ]
  },
  {
   "cell_type": "code",
   "execution_count": 50,
   "metadata": {},
   "outputs": [
    {
     "data": {
      "text/html": [
       "<div>\n",
       "<style scoped>\n",
       "    .dataframe tbody tr th:only-of-type {\n",
       "        vertical-align: middle;\n",
       "    }\n",
       "\n",
       "    .dataframe tbody tr th {\n",
       "        vertical-align: top;\n",
       "    }\n",
       "\n",
       "    .dataframe thead th {\n",
       "        text-align: right;\n",
       "    }\n",
       "</style>\n",
       "<table border=\"1\" class=\"dataframe\">\n",
       "  <thead>\n",
       "    <tr style=\"text-align: right;\">\n",
       "      <th></th>\n",
       "      <th>Name</th>\n",
       "      <th>Umar</th>\n",
       "      <th>pata</th>\n",
       "    </tr>\n",
       "  </thead>\n",
       "  <tbody>\n",
       "    <tr>\n",
       "      <th>0</th>\n",
       "      <td>Nirmal</td>\n",
       "      <td>22</td>\n",
       "      <td>Kurintar</td>\n",
       "    </tr>\n",
       "    <tr>\n",
       "      <th>1</th>\n",
       "      <td>Rohit</td>\n",
       "      <td>23</td>\n",
       "      <td>Mumbai</td>\n",
       "    </tr>\n",
       "    <tr>\n",
       "      <th>2</th>\n",
       "      <td>Sahil</td>\n",
       "      <td>24</td>\n",
       "      <td>Pune</td>\n",
       "    </tr>\n",
       "  </tbody>\n",
       "</table>\n",
       "</div>"
      ],
      "text/plain": [
       "     Name  Umar      pata\n",
       "0  Nirmal    22  Kurintar\n",
       "1   Rohit    23    Mumbai\n",
       "2   Sahil    24      Pune"
      ]
     },
     "execution_count": 50,
     "metadata": {},
     "output_type": "execute_result"
    }
   ],
   "source": [
    "df.rename(columns={'Age':'Umar','Address':'pata'})\n",
    "#note that it is not changing permanently"
   ]
  },
  {
   "cell_type": "code",
   "execution_count": 51,
   "metadata": {},
   "outputs": [
    {
     "data": {
      "text/html": [
       "<div>\n",
       "<style scoped>\n",
       "    .dataframe tbody tr th:only-of-type {\n",
       "        vertical-align: middle;\n",
       "    }\n",
       "\n",
       "    .dataframe tbody tr th {\n",
       "        vertical-align: top;\n",
       "    }\n",
       "\n",
       "    .dataframe thead th {\n",
       "        text-align: right;\n",
       "    }\n",
       "</style>\n",
       "<table border=\"1\" class=\"dataframe\">\n",
       "  <thead>\n",
       "    <tr style=\"text-align: right;\">\n",
       "      <th></th>\n",
       "      <th>Name</th>\n",
       "      <th>Age</th>\n",
       "      <th>Address</th>\n",
       "    </tr>\n",
       "  </thead>\n",
       "  <tbody>\n",
       "    <tr>\n",
       "      <th>0</th>\n",
       "      <td>Nirmal</td>\n",
       "      <td>22</td>\n",
       "      <td>Kurintar</td>\n",
       "    </tr>\n",
       "    <tr>\n",
       "      <th>1</th>\n",
       "      <td>Rohit</td>\n",
       "      <td>23</td>\n",
       "      <td>Mumbai</td>\n",
       "    </tr>\n",
       "    <tr>\n",
       "      <th>2</th>\n",
       "      <td>Sahil</td>\n",
       "      <td>24</td>\n",
       "      <td>Pune</td>\n",
       "    </tr>\n",
       "  </tbody>\n",
       "</table>\n",
       "</div>"
      ],
      "text/plain": [
       "     Name  Age   Address\n",
       "0  Nirmal   22  Kurintar\n",
       "1   Rohit   23    Mumbai\n",
       "2   Sahil   24      Pune"
      ]
     },
     "execution_count": 51,
     "metadata": {},
     "output_type": "execute_result"
    }
   ],
   "source": [
    "df"
   ]
  },
  {
   "cell_type": "code",
   "execution_count": 70,
   "metadata": {},
   "outputs": [],
   "source": [
    "import seaborn as sns"
   ]
  },
  {
   "cell_type": "code",
   "execution_count": 55,
   "metadata": {},
   "outputs": [],
   "source": [
    "iris = sns.load_dataset('iris')"
   ]
  },
  {
   "cell_type": "code",
   "execution_count": 58,
   "metadata": {},
   "outputs": [
    {
     "data": {
      "text/html": [
       "<div>\n",
       "<style scoped>\n",
       "    .dataframe tbody tr th:only-of-type {\n",
       "        vertical-align: middle;\n",
       "    }\n",
       "\n",
       "    .dataframe tbody tr th {\n",
       "        vertical-align: top;\n",
       "    }\n",
       "\n",
       "    .dataframe thead th {\n",
       "        text-align: right;\n",
       "    }\n",
       "</style>\n",
       "<table border=\"1\" class=\"dataframe\">\n",
       "  <thead>\n",
       "    <tr style=\"text-align: right;\">\n",
       "      <th></th>\n",
       "      <th>sepal_length</th>\n",
       "      <th>sepal_width</th>\n",
       "      <th>petal_length</th>\n",
       "      <th>petal_width</th>\n",
       "      <th>species</th>\n",
       "    </tr>\n",
       "  </thead>\n",
       "  <tbody>\n",
       "    <tr>\n",
       "      <th>0</th>\n",
       "      <td>5.1</td>\n",
       "      <td>3.5</td>\n",
       "      <td>1.4</td>\n",
       "      <td>0.2</td>\n",
       "      <td>setosa</td>\n",
       "    </tr>\n",
       "    <tr>\n",
       "      <th>1</th>\n",
       "      <td>4.9</td>\n",
       "      <td>3.0</td>\n",
       "      <td>1.4</td>\n",
       "      <td>0.2</td>\n",
       "      <td>setosa</td>\n",
       "    </tr>\n",
       "    <tr>\n",
       "      <th>2</th>\n",
       "      <td>4.7</td>\n",
       "      <td>3.2</td>\n",
       "      <td>1.3</td>\n",
       "      <td>0.2</td>\n",
       "      <td>setosa</td>\n",
       "    </tr>\n",
       "    <tr>\n",
       "      <th>3</th>\n",
       "      <td>4.6</td>\n",
       "      <td>3.1</td>\n",
       "      <td>1.5</td>\n",
       "      <td>0.2</td>\n",
       "      <td>setosa</td>\n",
       "    </tr>\n",
       "    <tr>\n",
       "      <th>4</th>\n",
       "      <td>5.0</td>\n",
       "      <td>3.6</td>\n",
       "      <td>1.4</td>\n",
       "      <td>0.2</td>\n",
       "      <td>setosa</td>\n",
       "    </tr>\n",
       "  </tbody>\n",
       "</table>\n",
       "</div>"
      ],
      "text/plain": [
       "   sepal_length  sepal_width  petal_length  petal_width species\n",
       "0           5.1          3.5           1.4          0.2  setosa\n",
       "1           4.9          3.0           1.4          0.2  setosa\n",
       "2           4.7          3.2           1.3          0.2  setosa\n",
       "3           4.6          3.1           1.5          0.2  setosa\n",
       "4           5.0          3.6           1.4          0.2  setosa"
      ]
     },
     "execution_count": 58,
     "metadata": {},
     "output_type": "execute_result"
    }
   ],
   "source": [
    "iris.head()"
   ]
  },
  {
   "cell_type": "code",
   "execution_count": 59,
   "metadata": {},
   "outputs": [
    {
     "data": {
      "text/plain": [
       "pandas.core.frame.DataFrame"
      ]
     },
     "execution_count": 59,
     "metadata": {},
     "output_type": "execute_result"
    }
   ],
   "source": [
    "type(iris)"
   ]
  },
  {
   "cell_type": "markdown",
   "metadata": {},
   "source": [
    "# Ecommerce customers project"
   ]
  },
  {
   "cell_type": "code",
   "execution_count": 64,
   "metadata": {},
   "outputs": [],
   "source": [
    "edata = pd.read_csv('EcommerceCustomers')"
   ]
  },
  {
   "cell_type": "code",
   "execution_count": 65,
   "metadata": {},
   "outputs": [
    {
     "data": {
      "text/plain": [
       "(500, 8)"
      ]
     },
     "execution_count": 65,
     "metadata": {},
     "output_type": "execute_result"
    }
   ],
   "source": [
    "edata.shape"
   ]
  },
  {
   "cell_type": "code",
   "execution_count": 66,
   "metadata": {
    "scrolled": true
   },
   "outputs": [
    {
     "data": {
      "text/html": [
       "<div>\n",
       "<style scoped>\n",
       "    .dataframe tbody tr th:only-of-type {\n",
       "        vertical-align: middle;\n",
       "    }\n",
       "\n",
       "    .dataframe tbody tr th {\n",
       "        vertical-align: top;\n",
       "    }\n",
       "\n",
       "    .dataframe thead th {\n",
       "        text-align: right;\n",
       "    }\n",
       "</style>\n",
       "<table border=\"1\" class=\"dataframe\">\n",
       "  <thead>\n",
       "    <tr style=\"text-align: right;\">\n",
       "      <th></th>\n",
       "      <th>Email</th>\n",
       "      <th>Address</th>\n",
       "      <th>Avatar</th>\n",
       "      <th>Avg. Session Length</th>\n",
       "      <th>Time on App</th>\n",
       "      <th>Time on Website</th>\n",
       "      <th>Length of Membership</th>\n",
       "      <th>Yearly Amount Spent</th>\n",
       "    </tr>\n",
       "  </thead>\n",
       "  <tbody>\n",
       "    <tr>\n",
       "      <th>0</th>\n",
       "      <td>mstephenson@fernandez.com</td>\n",
       "      <td>835 Frank Tunnel\\nWrightmouth, MI 82180-9605</td>\n",
       "      <td>Violet</td>\n",
       "      <td>34.497268</td>\n",
       "      <td>12.655651</td>\n",
       "      <td>39.577668</td>\n",
       "      <td>4.082621</td>\n",
       "      <td>587.951054</td>\n",
       "    </tr>\n",
       "    <tr>\n",
       "      <th>1</th>\n",
       "      <td>hduke@hotmail.com</td>\n",
       "      <td>4547 Archer Common\\nDiazchester, CA 06566-8576</td>\n",
       "      <td>DarkGreen</td>\n",
       "      <td>31.926272</td>\n",
       "      <td>11.109461</td>\n",
       "      <td>37.268959</td>\n",
       "      <td>2.664034</td>\n",
       "      <td>392.204933</td>\n",
       "    </tr>\n",
       "    <tr>\n",
       "      <th>2</th>\n",
       "      <td>pallen@yahoo.com</td>\n",
       "      <td>24645 Valerie Unions Suite 582\\nCobbborough, D...</td>\n",
       "      <td>Bisque</td>\n",
       "      <td>33.000915</td>\n",
       "      <td>11.330278</td>\n",
       "      <td>37.110597</td>\n",
       "      <td>4.104543</td>\n",
       "      <td>487.547505</td>\n",
       "    </tr>\n",
       "    <tr>\n",
       "      <th>3</th>\n",
       "      <td>riverarebecca@gmail.com</td>\n",
       "      <td>1414 David Throughway\\nPort Jason, OH 22070-1220</td>\n",
       "      <td>SaddleBrown</td>\n",
       "      <td>34.305557</td>\n",
       "      <td>13.717514</td>\n",
       "      <td>36.721283</td>\n",
       "      <td>3.120179</td>\n",
       "      <td>581.852344</td>\n",
       "    </tr>\n",
       "    <tr>\n",
       "      <th>4</th>\n",
       "      <td>mstephens@davidson-herman.com</td>\n",
       "      <td>14023 Rodriguez Passage\\nPort Jacobville, PR 3...</td>\n",
       "      <td>MediumAquaMarine</td>\n",
       "      <td>33.330673</td>\n",
       "      <td>12.795189</td>\n",
       "      <td>37.536653</td>\n",
       "      <td>4.446308</td>\n",
       "      <td>599.406092</td>\n",
       "    </tr>\n",
       "  </tbody>\n",
       "</table>\n",
       "</div>"
      ],
      "text/plain": [
       "                           Email  \\\n",
       "0      mstephenson@fernandez.com   \n",
       "1              hduke@hotmail.com   \n",
       "2               pallen@yahoo.com   \n",
       "3        riverarebecca@gmail.com   \n",
       "4  mstephens@davidson-herman.com   \n",
       "\n",
       "                                             Address            Avatar  \\\n",
       "0       835 Frank Tunnel\\nWrightmouth, MI 82180-9605            Violet   \n",
       "1     4547 Archer Common\\nDiazchester, CA 06566-8576         DarkGreen   \n",
       "2  24645 Valerie Unions Suite 582\\nCobbborough, D...            Bisque   \n",
       "3   1414 David Throughway\\nPort Jason, OH 22070-1220       SaddleBrown   \n",
       "4  14023 Rodriguez Passage\\nPort Jacobville, PR 3...  MediumAquaMarine   \n",
       "\n",
       "   Avg. Session Length  Time on App  Time on Website  Length of Membership  \\\n",
       "0            34.497268    12.655651        39.577668              4.082621   \n",
       "1            31.926272    11.109461        37.268959              2.664034   \n",
       "2            33.000915    11.330278        37.110597              4.104543   \n",
       "3            34.305557    13.717514        36.721283              3.120179   \n",
       "4            33.330673    12.795189        37.536653              4.446308   \n",
       "\n",
       "   Yearly Amount Spent  \n",
       "0           587.951054  \n",
       "1           392.204933  \n",
       "2           487.547505  \n",
       "3           581.852344  \n",
       "4           599.406092  "
      ]
     },
     "execution_count": 66,
     "metadata": {},
     "output_type": "execute_result"
    }
   ],
   "source": [
    "edata.head()"
   ]
  },
  {
   "cell_type": "code",
   "execution_count": 68,
   "metadata": {},
   "outputs": [
    {
     "data": {
      "text/html": [
       "<div>\n",
       "<style scoped>\n",
       "    .dataframe tbody tr th:only-of-type {\n",
       "        vertical-align: middle;\n",
       "    }\n",
       "\n",
       "    .dataframe tbody tr th {\n",
       "        vertical-align: top;\n",
       "    }\n",
       "\n",
       "    .dataframe thead th {\n",
       "        text-align: right;\n",
       "    }\n",
       "</style>\n",
       "<table border=\"1\" class=\"dataframe\">\n",
       "  <thead>\n",
       "    <tr style=\"text-align: right;\">\n",
       "      <th></th>\n",
       "      <th>Email</th>\n",
       "      <th>Address</th>\n",
       "      <th>Avatar</th>\n",
       "      <th>Avg. Session Length</th>\n",
       "      <th>Time on App</th>\n",
       "      <th>Time on Website</th>\n",
       "      <th>Length of Membership</th>\n",
       "      <th>Yearly Amount Spent</th>\n",
       "    </tr>\n",
       "  </thead>\n",
       "  <tbody>\n",
       "    <tr>\n",
       "      <th>38</th>\n",
       "      <td>cunninghamwilliam@hotmail.com</td>\n",
       "      <td>4589 Dan Fords\\nBeasleyburgh, ME 96590-8272</td>\n",
       "      <td>HoneyDew</td>\n",
       "      <td>32.749368</td>\n",
       "      <td>9.954976</td>\n",
       "      <td>37.388315</td>\n",
       "      <td>4.650491</td>\n",
       "      <td>478.170334</td>\n",
       "    </tr>\n",
       "  </tbody>\n",
       "</table>\n",
       "</div>"
      ],
      "text/plain": [
       "                            Email  \\\n",
       "38  cunninghamwilliam@hotmail.com   \n",
       "\n",
       "                                        Address    Avatar  \\\n",
       "38  4589 Dan Fords\\nBeasleyburgh, ME 96590-8272  HoneyDew   \n",
       "\n",
       "    Avg. Session Length  Time on App  Time on Website  Length of Membership  \\\n",
       "38            32.749368     9.954976        37.388315              4.650491   \n",
       "\n",
       "    Yearly Amount Spent  \n",
       "38           478.170334  "
      ]
     },
     "execution_count": 68,
     "metadata": {},
     "output_type": "execute_result"
    }
   ],
   "source": [
    "edata.sample()"
   ]
  },
  {
   "cell_type": "code",
   "execution_count": 69,
   "metadata": {},
   "outputs": [],
   "source": [
    "import matplotlib.pyplot as plt\n",
    "%matplotlib inline"
   ]
  },
  {
   "cell_type": "code",
   "execution_count": 71,
   "metadata": {},
   "outputs": [
    {
     "data": {
      "text/plain": [
       "Index(['Email', 'Address', 'Avatar', 'Avg. Session Length', 'Time on App',\n",
       "       'Time on Website', 'Length of Membership', 'Yearly Amount Spent'],\n",
       "      dtype='object')"
      ]
     },
     "execution_count": 71,
     "metadata": {},
     "output_type": "execute_result"
    }
   ],
   "source": [
    "edata.columns"
   ]
  },
  {
   "cell_type": "code",
   "execution_count": 72,
   "metadata": {},
   "outputs": [
    {
     "data": {
      "text/plain": [
       "pandas.core.indexes.base.Index"
      ]
     },
     "execution_count": 72,
     "metadata": {},
     "output_type": "execute_result"
    }
   ],
   "source": [
    "type(edata.columns)"
   ]
  },
  {
   "cell_type": "code",
   "execution_count": 118,
   "metadata": {},
   "outputs": [],
   "source": [
    "col=list(edata.columns)"
   ]
  },
  {
   "cell_type": "code",
   "execution_count": 120,
   "metadata": {},
   "outputs": [
    {
     "data": {
      "text/plain": [
       "['Email',\n",
       " 'Address',\n",
       " 'Avatar',\n",
       " 'Avg. Session Length',\n",
       " 'Time on App',\n",
       " 'Time on Website',\n",
       " 'Length of Membership',\n",
       " 'Yearly Amount Spent']"
      ]
     },
     "execution_count": 120,
     "metadata": {},
     "output_type": "execute_result"
    }
   ],
   "source": [
    "col"
   ]
  },
  {
   "cell_type": "code",
   "execution_count": 82,
   "metadata": {},
   "outputs": [
    {
     "data": {
      "text/plain": [
       "2"
      ]
     },
     "execution_count": 82,
     "metadata": {},
     "output_type": "execute_result"
    }
   ],
   "source": [
    "edata.ndim"
   ]
  },
  {
   "cell_type": "code",
   "execution_count": 85,
   "metadata": {},
   "outputs": [
    {
     "data": {
      "image/png": "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