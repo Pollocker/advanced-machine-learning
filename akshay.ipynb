
{
 "cells": [
  {
   "cell_type": "markdown",
   "metadata": {},
   "source": [
    "# Titanic data analysis"
   ]
  },
  {
   "cell_type": "code",
   "execution_count": 58,
   "metadata": {},
   "outputs": [],
   "source": [
    "import numpy as np\n",
    "import pandas as pd\n",
    "import matplotlib.pyplot as plt\n",
    "import seaborn as sns\n",
    "import math\n",
    "%matplotlib inline"
   ]
  },
  {
   "cell_type": "markdown",
   "metadata": {},
   "source": [
    "### 1.Collecting data"
   ]
  },
  {
   "cell_type": "code",
   "execution_count": 59,
   "metadata": {},
   "outputs": [],
   "source": [
    "titanic_data = pd.read_csv('train.csv')"
   ]
  },
  {
   "cell_type": "code",
   "execution_count": 60,
   "metadata": {},
   "outputs": [
    {
     "data": {
      "text/plain": [
       "12"
      ]
     },
     "execution_count": 60,
     "metadata": {},
     "output_type": "execute_result"
    }
   ],
   "source": [
    "#number of columns\n",
    "len(titanic_data.columns)"
   ]
  },
  {
   "cell_type": "code",
   "execution_count": 4,
   "metadata": {},
   "outputs": [
    {
     "data": {
      "text/plain": [
       "891"
      ]
     },
     "execution_count": 4,
     "metadata": {},
     "output_type": "execute_result"
    }
   ],
   "source": [
    "#number of rows\n",
    "len(titanic_data)"
   ]
  },
  {
   "cell_type": "code",
   "execution_count": 5,
   "metadata": {},
   "outputs": [
    {
     "data": {
      "text/html": [
       "<div>\n",
       "<style scoped>\n",
       "    .dataframe tbody tr th:only-of-type {\n",
       "        vertical-align: middle;\n",
       "    }\n",
       "\n",
       "    .dataframe tbody tr th {\n",
       "        vertical-align: top;\n",
       "    }\n",
       "\n",
       "    .dataframe thead th {\n",
       "        text-align: right;\n",
       "    }\n",
       "</style>\n",
       "<table border=\"1\" class=\"dataframe\">\n",
       "  <thead>\n",
       "    <tr style=\"text-align: right;\">\n",
       "      <th></th>\n",
       "      <th>PassengerId</th>\n",
       "      <th>Survived</th>\n",
       "      <th>Pclass</th>\n",
       "      <th>Name</th>\n",
       "      <th>Sex</th>\n",
       "      <th>Age</th>\n",
       "      <th>SibSp</th>\n",
       "      <th>Parch</th>\n",
       "      <th>Ticket</th>\n",
       "      <th>Fare</th>\n",
       "      <th>Cabin</th>\n",
       "      <th>Embarked</th>\n",
       "    </tr>\n",
       "  </thead>\n",
       "  <tbody>\n",
       "    <tr>\n",
       "      <th>0</th>\n",
       "      <td>1</td>\n",
       "      <td>0</td>\n",
       "      <td>3</td>\n",
       "      <td>Braund, Mr. Owen Harris</td>\n",
       "      <td>male</td>\n",
       "      <td>22.0</td>\n",
       "      <td>1</td>\n",
       "      <td>0</td>\n",
       "      <td>A/5 21171</td>\n",
       "      <td>7.2500</td>\n",
       "      <td>NaN</td>\n",
       "      <td>S</td>\n",
       "    </tr>\n",
       "    <tr>\n",
       "      <th>1</th>\n",
       "      <td>2</td>\n",
       "      <td>1</td>\n",
       "      <td>1</td>\n",
       "      <td>Cumings, Mrs. John Bradley (Florence Briggs Th...</td>\n",
       "      <td>female</td>\n",
       "      <td>38.0</td>\n",
       "      <td>1</td>\n",
       "      <td>0</td>\n",
       "      <td>PC 17599</td>\n",
       "      <td>71.2833</td>\n",
       "      <td>C85</td>\n",
       "      <td>C</td>\n",
       "    </tr>\n",
       "    <tr>\n",
       "      <th>2</th>\n",
       "      <td>3</td>\n",
       "      <td>1</td>\n",
       "      <td>3</td>\n",
       "      <td>Heikkinen, Miss. Laina</td>\n",
       "      <td>female</td>\n",
       "      <td>26.0</td>\n",
       "      <td>0</td>\n",
       "      <td>0</td>\n",
       "      <td>STON/O2. 3101282</td>\n",
       "      <td>7.9250</td>\n",
       "      <td>NaN</td>\n",
       "      <td>S</td>\n",
       "    </tr>\n",
       "    <tr>\n",
       "      <th>3</th>\n",
       "      <td>4</td>\n",
       "      <td>1</td>\n",
       "      <td>1</td>\n",
       "      <td>Futrelle, Mrs. Jacques Heath (Lily May Peel)</td>\n",
       "      <td>female</td>\n",
       "      <td>35.0</td>\n",
       "      <td>1</td>\n",
       "      <td>0</td>\n",
       "      <td>113803</td>\n",
       "      <td>53.1000</td>\n",
       "      <td>C123</td>\n",
       "      <td>S</td>\n",
       "    </tr>\n",
       "    <tr>\n",
       "      <th>4</th>\n",
       "      <td>5</td>\n",
       "      <td>0</td>\n",
       "      <td>3</td>\n",
       "      <td>Allen, Mr. William Henry</td>\n",
       "      <td>male</td>\n",
       "      <td>35.0</td>\n",
       "      <td>0</td>\n",
       "      <td>0</td>\n",
       "      <td>373450</td>\n",
       "      <td>8.0500</td>\n",
       "      <td>NaN</td>\n",
       "      <td>S</td>\n",
       "    </tr>\n",
       "    <tr>\n",
       "      <th>5</th>\n",
       "      <td>6</td>\n",
       "      <td>0</td>\n",
       "      <td>3</td>\n",
       "      <td>Moran, Mr. James</td>\n",
       "      <td>male</td>\n",
       "      <td>NaN</td>\n",
       "      <td>0</td>\n",
       "      <td>0</td>\n",
       "      <td>330877</td>\n",
       "      <td>8.4583</td>\n",
       "      <td>NaN</td>\n",
       "      <td>Q</td>\n",
       "    </tr>\n",
       "  </tbody>\n",
       "</table>\n",
       "</div>"
      ],
      "text/plain": [
       "   PassengerId  Survived  Pclass  \\\n",
       "0            1         0       3   \n",
       "1            2         1       1   \n",
       "2            3         1       3   \n",
       "3            4         1       1   \n",
       "4            5         0       3   \n",
       "5            6         0       3   \n",
       "\n",
       "                                                Name     Sex   Age  SibSp  \\\n",
       "0                            Braund, Mr. Owen Harris    male  22.0      1   \n",
       "1  Cumings, Mrs. John Bradley (Florence Briggs Th...  female  38.0      1   \n",
       "2                             Heikkinen, Miss. Laina  female  26.0      0   \n",
       "3       Futrelle, Mrs. Jacques Heath (Lily May Peel)  female  35.0      1   \n",
       "4                           Allen, Mr. William Henry    male  35.0      0   \n",
       "5                                   Moran, Mr. James    male   NaN      0   \n",
       "\n",
       "   Parch            Ticket     Fare Cabin Embarked  \n",
       "0      0         A/5 21171   7.2500   NaN        S  \n",
       "1      0          PC 17599  71.2833   C85        C  \n",
       "2      0  STON/O2. 3101282   7.9250   NaN        S  \n",
       "3      0            113803  53.1000  C123        S  \n",
       "4      0            373450   8.0500   NaN        S  \n",
       "5      0            330877   8.4583   NaN        Q  "
      ]
     },
     "execution_count": 5,
     "metadata": {},
     "output_type": "execute_result"
    }
   ],
   "source": [
    "titanic_data.head(6)"
   ]
  },
  {
   "cell_type": "code",
   "execution_count": 6,
   "metadata": {},
   "outputs": [
    {
     "data": {
      "text/plain": [
       "(891, 12)"
      ]
     },
     "execution_count": 6,
     "metadata": {},
     "output_type": "execute_result"
    }
   ],
   "source": [
    "titanic_data.shape"
   ]
  },
  {
   "cell_type": "code",
   "execution_count": 7,
   "metadata": {},
   "outputs": [
    {
     "name": "stdout",
     "output_type": "stream",
     "text": [
      "total number of passengers in the data is: 891\n"
     ]
    }
   ],
   "source": [
    "print('total number of passengers in the data is:', str(len(titanic_data)))"
   ]
  },
  {
   "cell_type": "markdown",
   "metadata": {},
   "source": [
    "### 2. Analysing data"
   ]
  },
  {
   "cell_type": "code",
   "execution_count": 8,
   "metadata": {},
   "outputs": [
    {
     "data": {
      "text/plain": [
       "<matplotlib.axes._subplots.AxesSubplot at 0x2618cd4dd30>"
      ]
     },
     "execution_count": 8,
     "metadata": {},
     "output_type": "execute_result"
    },
    {
     "data": {
      "image/png": "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\n",
      "text/plain": [
       "<Figure size 432x288 with 1 Axes>"
      ]
     },
     "metadata": {},
     "output_type": "display_data"
    }
   ],
   "source": [
    "sns.set(style=\"darkgrid\")\n",
    "sns.countplot(x='Survived',data=titanic_data)"
   ]
  },
  {
   "cell_type": "code",
   "execution_count": 9,
   "metadata": {},
   "outputs": [
    {
     "data": {
      "text/plain": [
       "<matplotlib.axes._subplots.AxesSubplot at 0x2618d33fc88>"
      ]
     },
     "execution_count": 9,
     "metadata": {},
     "output_type": "execute_result"
    },
    {
     "data": {
      "image/png": "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\n",
      "text/plain": [
       "<Figure size 432x288 with 1 Axes>"
      ]
     },
     "metadata": {},
     "output_type": "display_data"
    }
   ],
   "source": [
    "sns.set(style=\"darkgrid\")\n",
    "sns.countplot(x='Pclass',data=titanic_data)"
   ]
  },
  {
   "cell_type": "code",
   "execution_count": 10,
   "metadata": {},
   "outputs": [
    {
     "data": {
      "text/plain": [
       "<matplotlib.axes._subplots.AxesSubplot at 0x2618ce64358>"
      ]
     },
     "execution_count": 10,
     "metadata": {},
     "output_type": "execute_result"
    },
    {
     "data": {
      "image/png": "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\n",
      "text/plain": [
       "<Figure size 432x288 with 1 Axes>"
      ]
     },
     "metadata": {},
     "output_type": "display_data"
    }
   ],
   "source": [
    "sns.set(style=\"darkgrid\")\n",
    "sns.countplot(y='Pclass',data=titanic_data)\n",
    "#note: we changed 'x' to 'y' inside countplot parameter"
   ]
  },
  {
   "cell_type": "code",
   "execution_count": 11,
   "metadata": {},
   "outputs": [
    {
     "data": {
      "text/plain": [
       "<matplotlib.axes._subplots.AxesSubplot at 0x2618d020a20>"
      ]
     },
     "execution_count": 11,
     "metadata": {},
     "output_type": "execute_result"
    },
    {
     "data": {
      "image/png": "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\n",
      "text/plain": [
       "<Figure size 432x288 with 1 Axes>"
      ]
     },
     "metadata": {},
     "output_type": "display_data"
    }
   ],
   "source": [
    "sns.countplot(x='Pclass',data=titanic_data)"
   ]
  },
  {
   "cell_type": "code",
   "execution_count": 12,
   "metadata": {},
   "outputs": [
    {
     "data": {
      "text/plain": [
       "Index(['PassengerId', 'Survived', 'Pclass', 'Name', 'Sex', 'Age', 'SibSp',\n",
       "       'Parch', 'Ticket', 'Fare', 'Cabin', 'Embarked'],\n",
       "      dtype='object')"
      ]
     },
     "execution_count": 12,
     "metadata": {},
     "output_type": "execute_result"
    }
   ],
   "source": [
    "titanic_data.columns"
   ]
  },
  {
   "cell_type": "code",
   "execution_count": 13,
   "metadata": {},
   "outputs": [
    {
     "data": {
      "text/plain": [
       "<matplotlib.axes._subplots.AxesSubplot at 0x2618d18d630>"
      ]
     },
     "execution_count": 13,
     "metadata": {},
     "output_type": "execute_result"
    },
    {
     "data": {
      "image/png": "iVBORw0KGgoAAAANSUhEUgAAAY0AAAEPCAYAAAC+35gCAAAABHNCSVQICAgIfAhkiAAAAAlwSFlzAAALEgAACxIB0t1+/AAAADl0RVh0U29mdHdhcmUAbWF0cGxvdGxpYiB2ZXJzaW9uIDIuMi4zLCBodHRwOi8vbWF0cGxvdGxpYi5vcmcvIxREBQAAGj9JREFUeJzt3X1UVHXix/HPBIiZPVkzauTxtG5G6RZ7NJXcHQpaMJHSwcykNSvb2t3Ycls8iqz+7ElzbTk9WG2t6ynTipAHI51asfVsQT5wSrODm3nCs5DCoKICAsMwvz/MSbK1r8hlBn2//oF7597vfJjDmc+59879js3v9/sFAICBc4IdAADQfVAaAABjlAYAwBilAQAwRmkAAIxRGgAAY5QGAMAYpQEAMEZpAACMURoAAGOUBgDAWHiwA5yupqYmbd++XXa7XWFhYcGOAwDdgs/nk8fj0dChQ9WzZ0/j/bp9aWzfvl1paWnBjgEA3dKKFSs0fPhw4+27fWnY7XZJR//wfv36BTkNAHQPe/fuVVpaWuA91FS3L41jp6T69eunyy+/PMhpAKB7OdXT+lwIBwAYozQAAMa6/ekpAGhra1NlZaUaGhqCHSXkREREyOFw6IILLuiU8SgNAN1ebW2tbDabrrrqKp1zDidQjvH7/Tpy5IiqqqokqVOKg1cXQLdXV1envn37UhjfY7PZ1KtXL0VFRammpqZTxuQVBtDt+Xw+RUREBDtGyDr33HPl9Xo7ZSxKA8AZwWazBTtCyOrM14ZrGt9q8frUI4JpSCReC8BEXl6eXn/9dfl8Pp1//vn685//rKuvvjrYsSxHaXyrR0SYpsxcEewYIWHlIqZlAU5mz549WrZsmd555x317NlTn376qWbMmCG32x3saJbj9BQAnKLGxkZ5vV41NjZKkn7+858rMzNT9fX1evjhh+VyuZSWlqZdu3bpv//9r5xOpw4cOKBdu3YpKSmpW380mCMNADhFgwYN0vXXXy+n06lhw4YpLi5OkyZN0pIlS5ScnKzExER98cUXmjdvnt544w1NmTJFzz//vL788ktlZmbqvPPOC/af0GGUBgB0wOOPP65p06bpww8/lNvtVm5urnr06KGPPvpIS5YskSTV19dLku677z7deuutGjx4sOLi4oIZ+7RRGgBwijZs2CCfz6f4+HgNGjRI9913n1JTU7Vr1y6tXbtWl112mSSpurpaknT48GG1traqoqJCXq+3W388mGsaAHCKIiMjlZ2drdraWknS/v371dDQIJfLpXfeeUeStH79es2YMUOStGjRIt177726/vrrtWzZsqDl7gwcaQDAKRo1apQmT56stLQ0hYWFqUePHpo9e7auu+46ZWZmKiUlRZGRkVq4cKE2b96sHTt26KmnntLhw4c1fvx4JScnKyoqKth/RodQGgDQAWlpaT/4raEvvfTSCesKCgokSRdeeKE+/PBDy7NZidNTAABjlAYAwBilAQAwRmkAAIxRGgAAY5QGAMAYpQEAMEZpADjjtHh93Wrc48XHx6uystLy5+kobu4DcMax6vtx+K4ZSgMAOt3GjRv18ssvKyIiQpWVlYqPj1evXr20bt06SdIrr7wit9utwsJCHTlyRBEREXrmmWf0k5/8JDCGz+fTokWLtGnTJvl8PrlcLk2bNi1If9F3OD0FABbYunWr5s+fr1WrVmnFihXq06eP8vLydNVVV+m9997TunXrtHz5chUVFenGG2/UihXtj4xycnIkSfn5+crNzVVxcbG2bNkSjD+lHY40AMACgwcPVv/+/SVJF198sWJjYyVJl112mQ4dOqRnnnlG7733nioqKvTvf//7hO8XLy0tVXl5uT755BNJR78t8D//+Y+GDx/etX/I91AaAGCB739nRlhYWOD3PXv26I477tBdd90lp9OpSy+9VOXl5e229/l8ysjIUGJioqSj06+Hwjf+cXoKALrY559/roEDB2ratGn62c9+pnXr1snna//JrFGjRiknJ0der1cNDQ2aMmWKPvvssyAl/g5HGgDOOC1enyWfdGrx+tQjIuzHN/wRv/jFL7Rjxw6NHTtWfr9f119/vXbu3Nlum8mTJ2v37t2aMGGCWltb5XK5NHLkyNN+7tNFaQA443TGG/vpjDty5Mh2b/Dr168P/J6enn7SfY/fNisr6xQTWo/TUwAAY5QGAMCY5aXx9NNPa9asWZKk8vJyuVwuJSUlac6cOWptbZUkffPNN0pLS9OYMWP029/+Vg0NDVbHAgB0gKWlUVpaqvz8/MByRkaG5s6dq/fff19+vz9w88r8+fM1ZcoUud1uDR06VC+++KKVsQAAHWRZadTV1Sk7O1sPPvigJKmqqkpNTU2KiYmRJLlcLrndbnm9Xm3evFlJSUnt1gMAQo9lpTF37lzNmDFDF1xwgSSppqZGdrs98Ljdbld1dbUOHDig3r17Kzw8vN16AEDosaQ03nnnHfXv3z9w27wktbW1yWazBZb9fr9sNlvg5/G+vwwAp6Kt1RvUcWfPnq2EhAQVFRV1eoZZs2YpLy+v08c1Zcl9GmvWrJHH49Ftt92mgwcPqrGxUTabTR6PJ7BNbW2tHA6H+vTpo8OHD8vn8yksLEwej0cOh8OKWADOEueER6hs0fROH3fYzL8bbZefn69t27apR48enZ4h2CwpjWXLlgV+z8vL06ZNm7RgwQKNGzdOZWVlGjZsmAoLC+V0OhUREaHhw4drzZo1SklJUUFBgZxOpxWxAMByDz74oPx+v26//Xbdc889eu2119TW1qYhQ4Zo3rx5ioyM1OjRo5WQkKBt27bp0ksvVWpqqpYvX669e/dq4cKFGjFihDZt2qTs7Gw1NTXp0KFDmj17tm6++eZ2z1VQUPCD41upS+/TWLx4sRYsWKAxY8aosbFRU6dOlSTNmzdPOTk5Gjt2rLZs2aJHHnmkK2MBQKd5+eWXJR19v8vJydFbb72lwsJCXXLJJVq6dKmko2danE6nCgoK1NzcrHXr1mnlypVKT0/Xa6+9Jkl644039MQTTyg/P19PPPGEnn322XbPs3Pnzv85vpUsn0bE5XLJ5XJJkqKjo5Wbm3vCNlFRUVq+fLnVUQCgy2zcuFG7d+/WpEmTJEler1fXXHNN4PFjZ1SioqI0bNgwSd9Nmy5Jf/nLX/Thhx/K7XZr69atJ9y/9mPjW4W5pwDAAj6fT7fccktg/qiGhoZ2M9kef73j+GnTj5kyZUpgDqvY2Fj96U9/OqXxrcI0IgBggZEjR+qf//yn9u3bJ7/fr//7v/8LnHr6MXV1daqoqNDDDz8sp9Op4uLiEwrhdMY/HRxpAIAFoqOj9dBDD+nuu+9WW1ubrr76av3mN78x2veiiy7SxIkTlZycrPDwcI0aNUpNTU1qbGzslPFPh83v9/stfxYLVVZWKiEhQcXFxbr88stPa6wpM1f8+EZnASu+hwCwUnl5ebuvS21r9eqc8IiT7NExVo3bFb7/GnX0vZPTUwDOOFa9sXfXwuhMlAYAwBilAQAwRmkAOCN088uzlmpra+u0sSgNAN1ez549Ax89xXf8fr9aWlpUVVWl8847r1PG5CO3ALq9yy+/XJWVle0mRcVR4eHhuvDCC3XppZd2znidMgoABFFERISuuOKKYMc4K3B6CgBgjNIAABijNAAAxigNAIAxSgMAYIzSAAAYozQAAMYoDQCAMUoDAGCM0gAAGKM0AADGKA0AgDFKAwBgjNIAABijNAAAxigNAIAxSgMAYIzSAAAYozQAAMYoDQCAMUoDAGCM0gAAGKM0AADGKA0AgDFLS+PZZ5/V2LFjlZycrGXLlkmSSkpKlJKSosTERGVnZwe2LS8vl8vlUlJSkubMmaPW1lYrowEAOsCy0ti0aZM++eQTrV69WqtWrdLy5cu1Y8cOZWZm6sUXX9SaNWu0fft2bdiwQZKUkZGhuXPn6v3335ff71dOTo5V0QAAHWRZaYwYMUKvv/66wsPDtW/fPvl8Ph06dEgDBw7UgAEDFB4erpSUFLndblVVVampqUkxMTGSJJfLJbfbbVU0AEAHWXp6KiIiQs8995ySk5MVGxurmpoa2e32wOMOh0PV1dUnrLfb7aqurrYyGgCgAyy/EP6HP/xBpaWl2rNnjyoqKmSz2QKP+f1+2Ww2tbW1/eB6AEBosaw0du3apfLycknSueeeq8TERG3cuFEejyewjcfjkcPhUL9+/dqtr62tlcPhsCoaAKCDLCuNyspKZWVlqaWlRS0tLSouLtbkyZP19ddfa/fu3fL5fCoqKpLT6VRUVJQiIyNVVlYmSSosLJTT6bQqGgCgg8KtGjguLk7btm3T+PHjFRYWpsTERCUnJ6tPnz5KT09Xc3Oz4uLiNGbMGEnS4sWLlZWVpfr6eg0ZMkRTp061KhoAoIMsKw1JSk9PV3p6ert1sbGxWr169QnbRkdHKzc318o4AIDTxB3hAABjlAYAwBilAQAwRmkAAIxRGgAAY5QGAMCYUWn80DxQX331VaeHAQCEtpOWRl1dnerq6nT//ffr4MGDgeXa2lo99NBDXZURABAiTnpz36OPPqqPP/5YkjRy5MjvdgoPV1JSkrXJAAAh56SlsXTpUknS7NmztWDBgi4JBAAIXUbTiCxYsEBVVVU6ePCg/H5/YP2QIUMsCwYACD1GpfHcc89p6dKluuSSSwLrbDabiouLLQsGAAg9RqVRUFCgDz74QH379rU6DwAghBl95LZ///4UBgDA7EgjNjZWixYtUkJCgnr27BlYzzUNADi7GJVGXl6eJMntdgfWcU0DAM4+RqWxfv16q3MAALoBo9JYtmzZD66/5557OjUMACC0GZXGl19+Gfi9paVFmzdvVmxsrGWhAAChyfjmvuNVV1drzpw5lgQCAISuDk2N3rdvX1VVVXV2FgBAiDvlaxp+v1/bt29vd3c4AODscMrXNKSjN/vNnDnTkkAAgNB1Stc0qqqq1NraqoEDB1oaCgAQmoxKY/fu3frd736nmpoatbW16eKLL9bf/vY3DRo0yOp8ABDQ1urVOeERwY4REoL1WhiVxmOPPabp06drwoQJkqRVq1Zp/vz5ev311y0NBwDHOyc8QmWLpgc7RkgYNvPvQXleo09P7du3L1AYkpSamqoDBw5YFgoAEJqMSsPn86muri6wvH//fssCAQBCl9Hpqbvuukt33HGHbrnlFtlsNq1Zs0Z333231dkAACHG6EgjLi5OkuT1erVr1y5VV1frV7/6laXBAAChx+hIY9asWUpLS9PUqVPV3NysN998U5mZmXr11VetzgcACCFGRxoHDhzQ1KlTJUmRkZGaNm2aPB6PpcEAAKHH+EJ4dXV1YLm2tlZ+v9+yUACA0GR0emratGkaP368fvnLX8pms6mkpIRpRADgLGRUGhMnTtTQoUP1ySefKCwsTPfdd58GDx5sdTYAQIgxKg1Jio6OVnR09CkN/sILL2jt2rWSjn4Ca+bMmSopKdGCBQvU3NysW265RTNmzJAklZeXa86cOWpoaNDw4cM1f/58hYcbxwMAdIEOfZ+GiZKSEn300UfKz89XQUGBvvjiCxUVFSkzM1Mvvvii1qxZo+3bt2vDhg2SpIyMDM2dO1fvv/++/H6/cnJyrIoGAOggy0rDbrdr1qxZ6tGjhyIiIjRo0CBVVFRo4MCBGjBggMLDw5WSkiK3262qqio1NTUpJiZGkuRyueR2u62KBgDoIMtK48orrwyUQEVFhdauXSubzSa73R7YxuFwqLq6WjU1Ne3W2+32dp/WAgCEBstK45idO3fq3nvv1cyZMzVgwADZbLbAY36/XzabTW1tbT+4HgAQWiwtjbKyMk2bNk2PPvqoJkyYoH79+rW7KdDj8cjhcJywvra2Vg6Hw8poAIAOsKw09uzZo9///vdavHixkpOTJUnXXXedvv76a+3evVs+n09FRUVyOp2KiopSZGSkysrKJEmFhYVyOp1WRQMAdJBln2ldunSpmpubtXDhwsC6yZMna+HChUpPT1dzc7Pi4uI0ZswYSdLixYuVlZWl+vp6DRkyJDBtCQAgdFhWGllZWcrKyvrBx1avXn3CuujoaOXm5loVBwDQCSy/EA4AOHNQGgAAY5QGAMAYpQEAMEZpAACMURoAAGOUBgDAGKUBADBGaQAAjFEaAABjlAYAwBilAQAwRmkAAIxRGgAAY5QGAMAYpQEAMEZpAACMURoAAGOUBgDAGKUBADBGaQAAjFEaAABjlAYAwBilAQAwRmkAAIxRGgAAY5QGAMAYpQEAMEZpAACMURoAAGOUBgDAGKUBADBGaQAAjFEaAABjlAYAwJjlpVFfX69x48apsrJSklRSUqKUlBQlJiYqOzs7sF15eblcLpeSkpI0Z84ctba2Wh0N6BZavL5gRwACwq0cfOvWrcrKylJFRYUkqampSZmZmVq+fLn69++vBx54QBs2bFBcXJwyMjL0xBNPKCYmRpmZmcrJydGUKVOsjAd0Cz0iwjRl5opgxwgJKxelBTvCWc/SI42cnBzNmzdPDodDkrRt2zYNHDhQAwYMUHh4uFJSUuR2u1VVVaWmpibFxMRIklwul9xut5XRAAAdYOmRxpNPPtluuaamRna7PbDscDhUXV19wnq73a7q6morowEAOqBLL4S3tbXJZrMFlv1+v2w22/9cDwAILV1aGv369ZPH4wksezweORyOE9bX1tYGTmkBAEJHl5bGddddp6+//lq7d++Wz+dTUVGRnE6noqKiFBkZqbKyMklSYWGhnE5nV0YDABiw9JrG90VGRmrhwoVKT09Xc3Oz4uLiNGbMGEnS4sWLlZWVpfr6eg0ZMkRTp07tymgAAANdUhrr168P/B4bG6vVq1efsE10dLRyc3O7Ig4AoIO4IxwAYIzSAAAYozQAAMYoDZygrdUb7Aghg9cCaK9LPz2F7uGc8AiVLZoe7BghYdjMvwc7AhBSONIAABijNAAAxigNAIAxSgMAYIzSAAAYozQAAMYoDQCAMUoDAGCM0gAAGKM0AADGKA0AgDFKAwBgjNIAABijNAAAxigNAIAxSgMAYIzSAAAYozQAAMYoDQCAMUoDAGCM0gAAGKM0AADGKA0AgDFKAwBgjNIAABijNAAAxigNAIAxSgMAYIzSAAAYozQAAMYoDQCAsZAqjXfffVdjx45VYmKiVqxYEew4AIDvCQ92gGOqq6uVnZ2tvLw89ejRQ5MnT9bIkSP105/+NNjRAADfCpnSKCkp0ahRo3TRRRdJkpKSkuR2u/XQQw+ddD+fzydJ2rt372lnaG6sO+0xzgSVlZXyHG4KdoyQUFlZGewIkvjfPIb/ze+c7v/msffMY++hpkKmNGpqamS32wPLDodD27Zt+9H9PB6PJCktLc2ybGebhH8+F+wIoSMnIdgJcBz+N4/TSf+bHo9HAwcONN4+ZEqjra1NNpstsOz3+9st/y9Dhw7VihUrZLfbFRYWZmVEADhj+Hw+eTweDR069JT2C5nS6Nevn7Zs2RJY9ng8cjgcP7pfz549NXz4cCujAcAZ6VSOMI4JmU9P3XDDDSotLdX+/ft15MgRffDBB3I6ncGOBQA4TsgcafTt21czZszQ1KlT5fV6NXHiRF177bXBjgUAOI7N7/f7gx0CANA9hMzpKQBA6KM0AADGKA0AgDFKAwBgjNJAABNGIpTV19dr3LhxITO1y9mK0oCk7yaMXLlypQoKCvT222/rq6++CnYsQJK0detW3XnnnaqoqAh2lLMepQFJ7SeM7NWrV2DCSCAU5OTkaN68eUazRMBaIXNzH4KroxNGAl3hySefDHYEfIsjDUjq+ISRAM4ulAYkHZ0w8tg085L5hJEAzi6UBiQxYSQAM1zTgCQmjARghgkLAQDGOD0FADBGaQAAjFEaAABjlAYAwBilAQAwRmkA3/rss8/061//WikpKRo3bpymT5+unTt3dsrYb775pl555ZVOGevzzz9XfHx8p4wFnCru0wAktbS06IEHHtA//vEPDRkyRJJUWFio+++/X8XFxQoLCzut8e+8887OiAkEHaUBSDpy5IgOHz6sxsbGwLpbb71VvXv3VmlpqRYuXKiioiJJ0saNG/X444+rqKhIzz//vD777DPV1NToyiuvVFlZmZYsWaKhQ4dKkh555BGNGDFC+/bt04EDBxQfH6+nn35a7777riTp0KFDSkhI0Lp169TU1KTHHntMe/bskdfrVXJysh588EFJ0sqVK/Xaa6+pd+/eGjx4cBe/OsB3OD0FSLrwwguVkZGh6dOnKyEhQRkZGVq1apVuuOEGRUREnHTfqqoq5efn669//atSU1OVl5cnSTp48KBKS0uVkpIS2Hb06NFqaGjQ559/LkkqKipSXFxc4PmP7Z+bm6uSkhKtWbNG5eXleuGFF/TGG29o1apVP5oHsBKlAXzrnnvu0ccff6ysrCzZ7Xa9+uqrGj9+vA4fPnzS/WJiYhQefvSgPTU1VWvXrlVLS4uKiooUHx+v888/P7CtzWZTamqq8vPzJUl5eXmaNGmSGhsbtXnzZj377LO67bbbNGnSJO3Zs0c7duxQaWmpRo8eHZi6/o477rDoFQB+HKenAEllZWX69NNPNX36dN1000266aab9Mc//lHjxo3Tjh07dPxsO16vt92+vXr1CvweFRWla665Rv/617+Ul5enzMzME55r4sSJmjBhgm6//XYdPnxYI0aMUH19vfx+v9566y2de+65kqT9+/crMjJSb7/9drvnP93rK8Dp4EgDkNSnTx+99NJL2rJlS2Cdx+NRfX29br75Zn3zzTfat2+f/H6/3nvvvZOONWnSJL366qs6cuSIhg0bdsLjffv21bXXXqu5c+dq4sSJkqTevXsrJiZGy5Ytk3T0Wsedd96p4uJijR49Wh9//LH27t0rSYGjFCAYONIAJF1xxRVasmSJsrOztXfvXkVGRur888/XU089pejoaE2ePFmpqamy2+268cYbA9ckfkh8fLzmz5+v+++//39uc/vtt+vhhx/WSy+9FFi3ePFiPf7440pJSVFLS4vGjRunW2+9VZKUkZGhu+++W+eddx6zDyOomOUWAGCM01MAAGOUBgDAGKUBADBGaQAAjFEaAABjlAYAwBilAQAwRmkAAIz9PxVFYFaDC0wNAAAAAElFTkSuQmCC\n",
      "text/plain": [
       "<Figure size 432x288 with 1 Axes>"
      ]
     },
     "metadata": {},
     "output_type": "display_data"
    }
   ],
   "source": [
    "sns.set(style='white')\n",
    "sns.countplot(data=titanic_data,x='Survived',hue='Sex')"
   ]
  },
  {
   "cell_type": "code",
   "execution_count": 14,
   "metadata": {},
   "outputs": [
    {
     "data": {
      "text/plain": [
       "<matplotlib.axes._subplots.AxesSubplot at 0x2618d26c4a8>"
      ]
     },
     "execution_count": 14,
     "metadata": {},
     "output_type": "execute_result"
    },
    {
     "data": {
      "image/png": "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\n",
      "text/plain": [
       "<Figure size 432x288 with 1 Axes>"
      ]
     },
     "metadata": {},
     "output_type": "display_data"
    }
   ],
   "source": [
    "sns.countplot(data=titanic_data,x='Survived',hue='Pclass')\n",
    "# 0 for passengers who didn't survived\n",
    "# 1 for passeners who survived"
   ]
  },
  {
   "cell_type": "code",
   "execution_count": 15,
   "metadata": {},
   "outputs": [
    {
     "data": {
      "text/plain": [
       "<matplotlib.axes._subplots.AxesSubplot at 0x2618e58abe0>"
      ]
     },
     "execution_count": 15,
     "metadata": {},
     "output_type": "execute_result"
    },
    {
     "data": {
      "image/png": "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\n",
      "text/plain": [
       "<Figure size 720x360 with 1 Axes>"
      ]
     },
     "metadata": {},
     "output_type": "display_data"
    }
   ],
   "source": [
    "titanic_data['Fare'].plot.hist(figsize=(10,5),bins=20)"
   ]
  },
  {
   "cell_type": "code",
   "execution_count": 16,
   "metadata": {},
   "outputs": [
    {
     "name": "stdout",
     "output_type": "stream",
     "text": [
      "<class 'pandas.core.frame.DataFrame'>\n",
      "RangeIndex: 891 entries, 0 to 890\n",
      "Data columns (total 12 columns):\n",
      "PassengerId    891 non-null int64\n",
      "Survived       891 non-null int64\n",
      "Pclass         891 non-null int64\n",
      "Name           891 non-null object\n",
      "Sex            891 non-null object\n",
      "Age            714 non-null float64\n",
      "SibSp          891 non-null int64\n",
      "Parch          891 non-null int64\n",
      "Ticket         891 non-null object\n",
      "Fare           891 non-null float64\n",
      "Cabin          204 non-null object\n",
      "Embarked       889 non-null object\n",
      "dtypes: float64(2), int64(5), object(5)\n",
      "memory usage: 83.6+ KB\n"
     ]
    }
   ],
   "source": [
    "titanic_data.info()"
   ]
  },
  {
   "cell_type": "code",
   "execution_count": 17,
   "metadata": {},
   "outputs": [
    {
     "data": {
      "text/plain": [
       "<matplotlib.axes._subplots.AxesSubplot at 0x2618e577f98>"
      ]
     },
     "execution_count": 17,
     "metadata": {},
     "output_type": "execute_result"
    },
    {
     "data": {
      "image/png": "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\n",
      "text/plain": [
       "<Figure size 432x288 with 1 Axes>"
      ]
     },
     "metadata": {},
     "output_type": "display_data"
    }
   ],
   "source": [
    "sns.set(style='darkgrid')\n",
    "sns.countplot(data=titanic_data,x='SibSp')"
   ]
  },
  {
   "cell_type": "code",
   "execution_count": 18,
   "metadata": {},
   "outputs": [
    {
     "data": {
      "text/plain": [
       "<matplotlib.axes._subplots.AxesSubplot at 0x2618e692668>"
      ]
     },
     "execution_count": 18,
     "metadata": {},
     "output_type": "execute_result"
    },
    {
     "data": {
      "image/png": "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\n",
      "text/plain": [
       "<Figure size 432x288 with 1 Axes>"
      ]
     },
     "metadata": {},
     "output_type": "display_data"
    }
   ],
   "source": [
    "sns.countplot(data=titanic_data,x='Parch')"
   ]
  },
  {
   "cell_type": "markdown",
   "metadata": {},
   "source": [
    "## 3. Data wrangling"
   ]
  },
  {
   "cell_type": "code",
   "execution_count": 61,
   "metadata": {},
   "outputs": [
    {
     "data": {
      "text/html": [
       "<div>\n",
       "<style scoped>\n",
       "    .dataframe tbody tr th:only-of-type {\n",
       "        vertical-align: middle;\n",
       "    }\n",
       "\n",
       "    .dataframe tbody tr th {\n",
       "        vertical-align: top;\n",
       "    }\n",
       "\n",
       "    .dataframe thead th {\n",
       "        text-align: right;\n",
       "    }\n",
       "</style>\n",
       "<table border=\"1\" class=\"dataframe\">\n",
       "  <thead>\n",
       "    <tr style=\"text-align: right;\">\n",
       "      <th></th>\n",
       "      <th>Cabin</th>\n",
       "      <th>Embarked</th>\n",
       "    </tr>\n",
       "  </thead>\n",
       "  <tbody>\n",
       "    <tr>\n",
       "      <th>0</th>\n",
       "      <td>NaN</td>\n",
       "      <td>S</td>\n",
       "    </tr>\n",
       "    <tr>\n",
       "      <th>1</th>\n",
       "      <td>C85</td>\n",
       "      <td>C</td>\n",
       "    </tr>\n",
       "    <tr>\n",
       "      <th>2</th>\n",
       "      <td>NaN</td>\n",
       "      <td>S</td>\n",
       "    </tr>\n",
       "    <tr>\n",
       "      <th>3</th>\n",
       "      <td>C123</td>\n",
       "      <td>S</td>\n",
       "    </tr>\n",
       "    <tr>\n",
       "      <th>4</th>\n",
       "      <td>NaN</td>\n",
       "      <td>S</td>\n",
       "    </tr>\n",
       "  </tbody>\n",
       "</table>\n",
       "</div>"
      ],
      "text/plain": [
       "  Cabin Embarked\n",
       "0   NaN        S\n",
       "1   C85        C\n",
       "2   NaN        S\n",
       "3  C123        S\n",
       "4   NaN        S"
      ]
     },
     "execution_count": 61,
     "metadata": {},
     "output_type": "execute_result"
    }
   ],
   "source": [
    "titanic_data[['Cabin','Embarked']].head()"
   ]
  },
  {
   "cell_type": "code",
   "execution_count": 62,
   "metadata": {},
   "outputs": [
    {
     "data": {
      "text/html": [
       "<div>\n",
       "<style scoped>\n",
       "    .dataframe tbody tr th:only-of-type {\n",
       "        vertical-align: middle;\n",
       "    }\n",
       "\n",
       "    .dataframe tbody tr th {\n",
       "        vertical-align: top;\n",
       "    }\n",
       "\n",
       "    .dataframe thead th {\n",
       "        text-align: right;\n",
       "    }\n",
       "</style>\n",
       "<table border=\"1\" class=\"dataframe\">\n",
       "  <thead>\n",
       "    <tr style=\"text-align: right;\">\n",
       "      <th></th>\n",
       "      <th>Fare</th>\n",
       "      <th>Cabin</th>\n",
       "      <th>Embarked</th>\n",
       "    </tr>\n",
       "  </thead>\n",
       "  <tbody>\n",
       "    <tr>\n",
       "      <th>0</th>\n",
       "      <td>7.2500</td>\n",
       "      <td>NaN</td>\n",
       "      <td>S</td>\n",
       "    </tr>\n",
       "    <tr>\n",
       "      <th>1</th>\n",
       "      <td>71.2833</td>\n",
       "      <td>C85</td>\n",
       "      <td>C</td>\n",
       "    </tr>\n",
       "    <tr>\n",
       "      <th>2</th>\n",
       "      <td>7.9250</td>\n",
       "      <td>NaN</td>\n",
       "      <td>S</td>\n",
       "    </tr>\n",
       "    <tr>\n",
       "      <th>3</th>\n",
       "      <td>53.1000</td>\n",
       "      <td>C123</td>\n",
       "      <td>S</td>\n",
       "    </tr>\n",
       "    <tr>\n",
       "      <th>4</th>\n",
       "      <td>8.0500</td>\n",
       "      <td>NaN</td>\n",
       "      <td>S</td>\n",
       "    </tr>\n",
       "  </tbody>\n",
       "</table>\n",
       "</div>"
      ],
      "text/plain": [
       "      Fare Cabin Embarked\n",
       "0   7.2500   NaN        S\n",
       "1  71.2833   C85        C\n",
       "2   7.9250   NaN        S\n",
       "3  53.1000  C123        S\n",
       "4   8.0500   NaN        S"
      ]
     },
     "execution_count": 62,
     "metadata": {},
     "output_type": "execute_result"
    }
   ],
   "source": [
    "titanic_data.loc[:,'Fare':].head()"
   ]
  },
  {
   "cell_type": "code",
   "execution_count": 63,
   "metadata": {},
   "outputs": [
    {
     "data": {
      "text/html": [
       "<div>\n",
       "<style scoped>\n",
       "    .dataframe tbody tr th:only-of-type {\n",
       "        vertical-align: middle;\n",
       "    }\n",
       "\n",
       "    .dataframe tbody tr th {\n",
       "        vertical-align: top;\n",
       "    }\n",
       "\n",
       "    .dataframe thead th {\n",
       "        text-align: right;\n",
       "    }\n",
       "</style>\n",
       "<table border=\"1\" class=\"dataframe\">\n",
       "  <thead>\n",
       "    <tr style=\"text-align: right;\">\n",
       "      <th></th>\n",
       "      <th>PassengerId</th>\n",
       "      <th>Survived</th>\n",
       "      <th>Pclass</th>\n",
       "      <th>Name</th>\n",
       "      <th>Sex</th>\n",
       "      <th>Age</th>\n",
       "      <th>SibSp</th>\n",
       "      <th>Parch</th>\n",
       "      <th>Ticket</th>\n",
       "      <th>Fare</th>\n",
       "      <th>Cabin</th>\n",
       "      <th>Embarked</th>\n",
       "    </tr>\n",
       "  </thead>\n",
       "  <tbody>\n",
       "    <tr>\n",
       "      <th>0</th>\n",
       "      <td>False</td>\n",
       "      <td>False</td>\n",
       "      <td>False</td>\n",
       "      <td>False</td>\n",
       "      <td>False</td>\n",
       "      <td>False</td>\n",
       "      <td>False</td>\n",
       "      <td>False</td>\n",
       "      <td>False</td>\n",
       "      <td>False</td>\n",
       "      <td>True</td>\n",
       "      <td>False</td>\n",
       "    </tr>\n",
       "    <tr>\n",
       "      <th>1</th>\n",
       "      <td>False</td>\n",
       "      <td>False</td>\n",
       "      <td>False</td>\n",
       "      <td>False</td>\n",
       "      <td>False</td>\n",
       "      <td>False</td>\n",
       "      <td>False</td>\n",
       "      <td>False</td>\n",
       "      <td>False</td>\n",
       "      <td>False</td>\n",
       "      <td>False</td>\n",
       "      <td>False</td>\n",
       "    </tr>\n",
       "    <tr>\n",
       "      <th>2</th>\n",
       "      <td>False</td>\n",
       "      <td>False</td>\n",
       "      <td>False</td>\n",
       "      <td>False</td>\n",
       "      <td>False</td>\n",
       "      <td>False</td>\n",
       "      <td>False</td>\n",
       "      <td>False</td>\n",
       "      <td>False</td>\n",
       "      <td>False</td>\n",
       "      <td>True</td>\n",
       "      <td>False</td>\n",
       "    </tr>\n",
       "    <tr>\n",
       "      <th>3</th>\n",
       "      <td>False</td>\n",
       "      <td>False</td>\n",
       "      <td>False</td>\n",
       "      <td>False</td>\n",
       "      <td>False</td>\n",
       "      <td>False</td>\n",
       "      <td>False</td>\n",
       "      <td>False</td>\n",
       "      <td>False</td>\n",
       "      <td>False</td>\n",
       "      <td>False</td>\n",
       "      <td>False</td>\n",
       "    </tr>\n",
       "    <tr>\n",
       "      <th>4</th>\n",
       "      <td>False</td>\n",
       "      <td>False</td>\n",
       "      <td>False</td>\n",
       "      <td>False</td>\n",
       "      <td>False</td>\n",
       "      <td>False</td>\n",
       "      <td>False</td>\n",
       "      <td>False</td>\n",
       "      <td>False</td>\n",
       "      <td>False</td>\n",
       "      <td>True</td>\n",
       "      <td>False</td>\n",
       "    </tr>\n",
       "    <tr>\n",
       "      <th>5</th>\n",
       "      <td>False</td>\n",
       "      <td>False</td>\n",
       "      <td>False</td>\n",
       "      <td>False</td>\n",
       "      <td>False</td>\n",
       "      <td>True</td>\n",
       "      <td>False</td>\n",
       "      <td>False</td>\n",
       "      <td>False</td>\n",
       "      <td>False</td>\n",
       "      <td>True</td>\n",
       "      <td>False</td>\n",
       "    </tr>\n",
       "    <tr>\n",
       "      <th>6</th>\n",
       "      <td>False</td>\n",
       "      <td>False</td>\n",
       "      <td>False</td>\n",
       "      <td>False</td>\n",
       "      <td>False</td>\n",
       "      <td>False</td>\n",
       "      <td>False</td>\n",
       "      <td>False</td>\n",
       "      <td>False</td>\n",
       "      <td>False</td>\n",
       "      <td>False</td>\n",
       "      <td>False</td>\n",
       "    </tr>\n",
       "    <tr>\n",
       "      <th>7</th>\n",
       "      <td>False</td>\n",
       "      <td>False</td>\n",
       "      <td>False</td>\n",
       "      <td>False</td>\n",
       "      <td>False</td>\n",
       "      <td>False</td>\n",
       "      <td>False</td>\n",
       "      <td>False</td>\n",
       "      <td>False</td>\n",
       "      <td>False</td>\n",
       "      <td>True</td>\n",
       "      <td>False</td>\n",
       "    </tr>\n",
       "    <tr>\n",
       "      <th>8</th>\n",
       "      <td>False</td>\n",
       "      <td>False</td>\n",
       "      <td>False</td>\n",
       "      <td>False</td>\n",
       "      <td>False</td>\n",
       "      <td>False</td>\n",
       "      <td>False</td>\n",
       "      <td>False</td>\n",
       "      <td>False</td>\n",
       "      <td>False</td>\n",
       "      <td>True</td>\n",
       "      <td>False</td>\n",
       "    </tr>\n",
       "    <tr>\n",
       "      <th>9</th>\n",
       "      <td>False</td>\n",
       "      <td>False</td>\n",
       "      <td>False</td>\n",
       "      <td>False</td>\n",
       "      <td>False</td>\n",
       "      <td>False</td>\n",
       "      <td>False</td>\n",
       "      <td>False</td>\n",
       "      <td>False</td>\n",
       "      <td>False</td>\n",
       "      <td>True</td>\n",
       "      <td>False</td>\n",
       "    </tr>\n",
       "    <tr>\n",
       "      <th>10</th>\n",
       "      <td>False</td>\n",
       "      <td>False</td>\n",
       "      <td>False</td>\n",
       "      <td>False</td>\n",
       "      <td>False</td>\n",
       "      <td>False</td>\n",
       "      <td>False</td>\n",
       "      <td>False</td>\n",
       "      <td>False</td>\n",
       "      <td>False</td>\n",
       "      <td>False</td>\n",
       "      <td>False</td>\n",
       "    </tr>\n",
       "    <tr>\n",
       "      <th>11</th>\n",
       "      <td>False</td>\n",
       "      <td>False</td>\n",
       "      <td>False</td>\n",
       "      <td>False</td>\n",
       "      <td>False</td>\n",
       "      <td>False</td>\n",
       "      <td>False</td>\n",
       "      <td>False</td>\n",
       "      <td>False</td>\n",
       "      <td>False</td>\n",
       "      <td>False</td>\n",
       "      <td>False</td>\n",
       "    </tr>\n",
       "    <tr>\n",
       "      <th>12</th>\n",
       "      <td>False</td>\n",
       "      <td>False</td>\n",
       "      <td>False</td>\n",
       "      <td>False</td>\n",
       "      <td>False</td>\n",
       "      <td>False</td>\n",
       "      <td>False</td>\n",
       "      <td>False</td>\n",
       "      <td>False</td>\n",
       "      <td>False</td>\n",
       "      <td>True</td>\n",
       "      <td>False</td>\n",
       "    </tr>\n",
       "    <tr>\n",
       "      <th>13</th>\n",
       "      <td>False</td>\n",
       "      <td>False</td>\n",
       "      <td>False</td>\n",
       "      <td>False</td>\n",
       "      <td>False</td>\n",
       "      <td>False</td>\n",
       "      <td>False</td>\n",
       "      <td>False</td>\n",
       "      <td>False</td>\n",
       "      <td>False</td>\n",
       "      <td>True</td>\n",
       "      <td>False</td>\n",
       "    </tr>\n",
       "    <tr>\n",
       "      <th>14</th>\n",
       "      <td>False</td>\n",
       "      <td>False</td>\n",
       "      <td>False</td>\n",
       "      <td>False</td>\n",
       "      <td>False</td>\n",
       "      <td>False</td>\n",
       "      <td>False</td>\n",
       "      <td>False</td>\n",
       "      <td>False</td>\n",
       "      <td>False</td>\n",
       "      <td>True</td>\n",
       "      <td>False</td>\n",
       "    </tr>\n",
       "    <tr>\n",
       "      <th>15</th>\n",
       "      <td>False</td>\n",
       "      <td>False</td>\n",
       "      <td>False</td>\n",
       "      <td>False</td>\n",
       "      <td>False</td>\n",
       "      <td>False</td>\n",
       "      <td>False</td>\n",
       "      <td>False</td>\n",
       "      <td>False</td>\n",
       "      <td>False</td>\n",
       "      <td>True</td>\n",
       "      <td>False</td>\n",
       "    </tr>\n",
       "    <tr>\n",
       "      <th>16</th>\n",
       "      <td>False</td>\n",
       "      <td>False</td>\n",
       "      <td>False</td>\n",
       "      <td>False</td>\n",
       "      <td>False</td>\n",
       "      <td>False</td>\n",
       "      <td>False</td>\n",
       "      <td>False</td>\n",
       "      <td>False</td>\n",
       "      <td>False</td>\n",
       "      <td>True</td>\n",
       "      <td>False</td>\n",
       "    </tr>\n",
       "    <tr>\n",
       "      <th>17</th>\n",
       "      <td>False</td>\n",
       "      <td>False</td>\n",
       "      <td>False</td>\n",
       "      <td>False</td>\n",
       "      <td>False</td>\n",
       "      <td>True</td>\n",
       "      <td>False</td>\n",
       "      <td>False</td>\n",
       "      <td>False</td>\n",
       "      <td>False</td>\n",
       "      <td>True</td>\n",
       "      <td>False</td>\n",
       "    </tr>\n",
       "    <tr>\n",
       "      <th>18</th>\n",
       "      <td>False</td>\n",
       "      <td>False</td>\n",
       "      <td>False</td>\n",
       "      <td>False</td>\n",
       "      <td>False</td>\n",
       "      <td>False</td>\n",
       "      <td>False</td>\n",
       "      <td>False</td>\n",
       "      <td>False</td>\n",
       "      <td>False</td>\n",
       "      <td>True</td>\n",
       "      <td>False</td>\n",
       "    </tr>\n",
       "    <tr>\n",
       "      <th>19</th>\n",
       "      <td>False</td>\n",
       "      <td>False</td>\n",
       "      <td>False</td>\n",
       "      <td>False</td>\n",
       "      <td>False</td>\n",
       "      <td>True</td>\n",
       "      <td>False</td>\n",
       "      <td>False</td>\n",
       "      <td>False</td>\n",
       "      <td>False</td>\n",
       "      <td>True</td>\n",
       "      <td>False</td>\n",
       "    </tr>\n",
       "    <tr>\n",
       "      <th>20</th>\n",
       "      <td>False</td>\n",
       "      <td>False</td>\n",
       "      <td>False</td>\n",
       "      <td>False</td>\n",
       "      <td>False</td>\n",
       "      <td>False</td>\n",
       "      <td>False</td>\n",
       "      <td>False</td>\n",
       "      <td>False</td>\n",
       "      <td>False</td>\n",
       "      <td>True</td>\n",
       "      <td>False</td>\n",
       "    </tr>\n",
       "    <tr>\n",
       "      <th>21</th>\n",
       "      <td>False</td>\n",
       "      <td>False</td>\n",
       "      <td>False</td>\n",
       "      <td>False</td>\n",
       "      <td>False</td>\n",
       "      <td>False</td>\n",
       "      <td>False</td>\n",
       "      <td>False</td>\n",
       "      <td>False</td>\n",
       "      <td>False</td>\n",
       "      <td>False</td>\n",
       "      <td>False</td>\n",
       "    </tr>\n",
       "    <tr>\n",
       "      <th>22</th>\n",
       "      <td>False</td>\n",
       "      <td>False</td>\n",
       "      <td>False</td>\n",
       "      <td>False</td>\n",
       "      <td>False</td>\n",
       "      <td>False</td>\n",
       "      <td>False</td>\n",
       "      <td>False</td>\n",
       "      <td>False</td>\n",
       "      <td>False</td>\n",
       "      <td>True</td>\n",
       "      <td>False</td>\n",
       "    </tr>\n",
       "    <tr>\n",
       "      <th>23</th>\n",
       "      <td>False</td>\n",
       "      <td>False</td>\n",
       "      <td>False</td>\n",
       "      <td>False</td>\n",
       "      <td>False</td>\n",
       "      <td>False</td>\n",
       "      <td>False</td>\n",
       "      <td>False</td>\n",
       "      <td>False</td>\n",
       "      <td>False</td>\n",
       "      <td>False</td>\n",
       "      <td>False</td>\n",
       "    </tr>\n",
       "    <tr>\n",
       "      <th>24</th>\n",
       "      <td>False</td>\n",
       "      <td>False</td>\n",
       "      <td>False</td>\n",
       "      <td>False</td>\n",
       "      <td>False</td>\n",
       "      <td>False</td>\n",
       "      <td>False</td>\n",
       "      <td>False</td>\n",
       "      <td>False</td>\n",
       "      <td>False</td>\n",
       "      <td>True</td>\n",
       "      <td>False</td>\n",
       "    </tr>\n",
       "    <tr>\n",
       "      <th>25</th>\n",
       "      <td>False</td>\n",
       "      <td>False</td>\n",
       "      <td>False</td>\n",
       "      <td>False</td>\n",
       "      <td>False</td>\n",
       "      <td>False</td>\n",
       "      <td>False</td>\n",
       "      <td>False</td>\n",
       "      <td>False</td>\n",
       "      <td>False</td>\n",
       "      <td>True</td>\n",
       "      <td>False</td>\n",
       "    </tr>\n",
       "    <tr>\n",
       "      <th>26</th>\n",
       "      <td>False</td>\n",
       "      <td>False</td>\n",
       "      <td>False</td>\n",
       "      <td>False</td>\n",
       "      <td>False</td>\n",
       "      <td>True</td>\n",
       "      <td>False</td>\n",
       "      <td>False</td>\n",
       "      <td>False</td>\n",
       "      <td>False</td>\n",
       "      <td>True</td>\n",
       "      <td>False</td>\n",
       "    </tr>\n",
       "    <tr>\n",
       "      <th>27</th>\n",
       "      <td>False</td>\n",
       "      <td>False</td>\n",
       "      <td>False</td>\n",
       "      <td>False</td>\n",
       "      <td>False</td>\n",
       "      <td>False</td>\n",
       "      <td>False</td>\n",
       "      <td>False</td>\n",
       "      <td>False</td>\n",
       "      <td>False</td>\n",
       "      <td>False</td>\n",
       "      <td>False</td>\n",
       "    </tr>\n",
       "    <tr>\n",
       "      <th>28</th>\n",
       "      <td>False</td>\n",
       "      <td>False</td>\n",
       "      <td>False</td>\n",
       "      <td>False</td>\n",
       "      <td>False</td>\n",
       "      <td>True</td>\n",
       "      <td>False</td>\n",
       "      <td>False</td>\n",
       "      <td>False</td>\n",
       "      <td>False</td>\n",
       "      <td>True</td>\n",
       "      <td>False</td>\n",
       "    </tr>\n",
       "    <tr>\n",
       "      <th>29</th>\n",
       "      <td>False</td>\n",
       "      <td>False</td>\n",
       "      <td>False</td>\n",
       "      <td>False</td>\n",
       "      <td>False</td>\n",
       "      <td>True</td>\n",
       "      <td>False</td>\n",
       "      <td>False</td>\n",
       "      <td>False</td>\n",
       "      <td>False</td>\n",
       "      <td>True</td>\n",
       "      <td>False</td>\n",
       "    </tr>\n",
       "    <tr>\n",
       "      <th>...</th>\n",
       "      <td>...</td>\n",
       "      <td>...</td>\n",
       "      <td>...</td>\n",
       "      <td>...</td>\n",
       "      <td>...</td>\n",
       "      <td>...</td>\n",
       "      <td>...</td>\n",
       "      <td>...</td>\n",
       "      <td>...</td>\n",
       "      <td>...</td>\n",
       "      <td>...</td>\n",
       "      <td>...</td>\n",
       "    </tr>\n",
       "    <tr>\n",
       "      <th>861</th>\n",
       "      <td>False</td>\n",
       "      <td>False</td>\n",
       "      <td>False</td>\n",
       "      <td>False</td>\n",
       "      <td>False</td>\n",
       "      <td>False</td>\n",
       "      <td>False</td>\n",
       "      <td>False</td>\n",
       "      <td>False</td>\n",
       "      <td>False</td>\n",
       "      <td>True</td>\n",
       "      <td>False</td>\n",
       "    </tr>\n",
       "    <tr>\n",
       "      <th>862</th>\n",
       "      <td>False</td>\n",
       "      <td>False</td>\n",
       "      <td>False</td>\n",
       "      <td>False</td>\n",
       "      <td>False</td>\n",
       "      <td>False</td>\n",
       "      <td>False</td>\n",
       "      <td>False</td>\n",
       "      <td>False</td>\n",
       "      <td>False</td>\n",
       "      <td>False</td>\n",
       "      <td>False</td>\n",
       "    </tr>\n",
       "    <tr>\n",
       "      <th>863</th>\n",
       "      <td>False</td>\n",
       "      <td>False</td>\n",
       "      <td>False</td>\n",
       "      <td>False</td>\n",
       "      <td>False</td>\n",
       "      <td>True</td>\n",
       "      <td>False</td>\n",
       "      <td>False</td>\n",
       "      <td>False</td>\n",
       "      <td>False</td>\n",
       "      <td>True</td>\n",
       "      <td>False</td>\n",
       "    </tr>\n",
       "    <tr>\n",
       "      <th>864</th>\n",
       "      <td>False</td>\n",
       "      <td>False</td>\n",
       "      <td>False</td>\n",
       "      <td>False</td>\n",
       "      <td>False</td>\n",
       "      <td>False</td>\n",
       "      <td>False</td>\n",
       "      <td>False</td>\n",
       "      <td>False</td>\n",
       "      <td>False</td>\n",
       "      <td>True</td>\n",
       "      <td>False</td>\n",
       "    </tr>\n",
       "    <tr>\n",
       "      <th>865</th>\n",
       "      <td>False</td>\n",
       "      <td>False</td>\n",
       "      <td>False</td>\n",
       "      <td>False</td>\n",
       "      <td>False</td>\n",
       "      <td>False</td>\n",
       "      <td>False</td>\n",
       "      <td>False</td>\n",
       "      <td>False</td>\n",
       "      <td>False</td>\n",
       "      <td>True</td>\n",
       "      <td>False</td>\n",
       "    </tr>\n",
       "    <tr>\n",
       "      <th>866</th>\n",
       "      <td>False</td>\n",
       "      <td>False</td>\n",
       "      <td>False</td>\n",
       "      <td>False</td>\n",
       "      <td>False</td>\n",
       "      <td>False</td>\n",
       "      <td>False</td>\n",
       "      <td>False</td>\n",
       "      <td>False</td>\n",
       "      <td>False</td>\n",
       "      <td>True</td>\n",
       "      <td>False</td>\n",
       "    </tr>\n",
       "    <tr>\n",
       "      <th>867</th>\n",
       "      <td>False</td>\n",
       "      <td>False</td>\n",
       "      <td>False</td>\n",
       "      <td>False</td>\n",
       "      <td>False</td>\n",
       "      <td>False</td>\n",
       "      <td>False</td>\n",
       "      <td>False</td>\n",
       "      <td>False</td>\n",
       "      <td>False</td>\n",
       "      <td>False</td>\n",
       "      <td>False</td>\n",
       "    </tr>\n",
       "    <tr>\n",
       "      <th>868</th>\n",
       "      <td>False</td>\n",
       "      <td>False</td>\n",
       "      <td>False</td>\n",
       "      <td>False</td>\n",
       "      <td>False</td>\n",
       "      <td>True</td>\n",
       "      <td>False</td>\n",
       "      <td>False</td>\n",
       "      <td>False</td>\n",
       "      <td>False</td>\n",
       "      <td>True</td>\n",
       "      <td>False</td>\n",
       "    </tr>\n",
       "    <tr>\n",
       "      <th>869</th>\n",
       "      <td>False</td>\n",
       "      <td>False</td>\n",
       "      <td>False</td>\n",
       "      <td>False</td>\n",
       "      <td>False</td>\n",
       "      <td>False</td>\n",
       "      <td>False</td>\n",
       "      <td>False</td>\n",
       "      <td>False</td>\n",
       "      <td>False</td>\n",
       "      <td>True</td>\n",
       "      <td>False</td>\n",
       "    </tr>\n",
       "    <tr>\n",
       "      <th>870</th>\n",
       "      <td>False</td>\n",
       "      <td>False</td>\n",
       "      <td>False</td>\n",
       "      <td>False</td>\n",
       "      <td>False</td>\n",
       "      <td>False</td>\n",
       "      <td>False</td>\n",
       "      <td>False</td>\n",
       "      <td>False</td>\n",
       "      <td>False</td>\n",
       "      <td>True</td>\n",
       "      <td>False</td>\n",
       "    </tr>\n",
       "    <tr>\n",
       "      <th>871</th>\n",
       "      <td>False</td>\n",
       "      <td>False</td>\n",
       "      <td>False</td>\n",
       "      <td>False</td>\n",
       "      <td>False</td>\n",
       "      <td>False</td>\n",
       "      <td>False</td>\n",
       "      <td>False</td>\n",
       "      <td>False</td>\n",
       "      <td>False</td>\n",
       "      <td>False</td>\n",
       "      <td>False</td>\n",
       "    </tr>\n",
       "    <tr>\n",
       "      <th>872</th>\n",
       "      <td>False</td>\n",
       "      <td>False</td>\n",
       "      <td>False</td>\n",
       "      <td>False</td>\n",
       "      <td>False</td>\n",
       "      <td>False</td>\n",
       "      <td>False</td>\n",
       "      <td>False</td>\n",
       "      <td>False</td>\n",
       "      <td>False</td>\n",
       "      <td>False</td>\n",
       "      <td>False</td>\n",
       "    </tr>\n",
       "    <tr>\n",
       "      <th>873</th>\n",
       "      <td>False</td>\n",
       "      <td>False</td>\n",
       "      <td>False</td>\n",
       "      <td>False</td>\n",
       "      <td>False</td>\n",
       "      <td>False</td>\n",
       "      <td>False</td>\n",
       "      <td>False</td>\n",
       "      <td>False</td>\n",
       "      <td>False</td>\n",
       "      <td>True</td>\n",
       "      <td>False</td>\n",
       "    </tr>\n",
       "    <tr>\n",
       "      <th>874</th>\n",
       "      <td>False</td>\n",
       "      <td>False</td>\n",
       "      <td>False</td>\n",
       "      <td>False</td>\n",
       "      <td>False</td>\n",
       "      <td>False</td>\n",
       "      <td>False</td>\n",
       "      <td>False</td>\n",
       "      <td>False</td>\n",
       "      <td>False</td>\n",
       "      <td>True</td>\n",
       "      <td>False</td>\n",
       "    </tr>\n",
       "    <tr>\n",
       "      <th>875</th>\n",
       "      <td>False</td>\n",
       "      <td>False</td>\n",
       "      <td>False</td>\n",
       "      <td>False</td>\n",
       "      <td>False</td>\n",
       "      <td>False</td>\n",
       "      <td>False</td>\n",
       "      <td>False</td>\n",
       "      <td>False</td>\n",
       "      <td>False</td>\n",
       "      <td>True</td>\n",
       "      <td>False</td>\n",
       "    </tr>\n",
       "    <tr>\n",
       "      <th>876</th>\n",
       "      <td>False</td>\n",
       "      <td>False</td>\n",
       "      <td>False</td>\n",
       "      <td>False</td>\n",
       "      <td>False</td>\n",
       "      <td>False</td>\n",
       "      <td>False</td>\n",
       "      <td>False</td>\n",
       "      <td>False</td>\n",
       "      <td>False</td>\n",
       "      <td>True</td>\n",
       "      <td>False</td>\n",
       "    </tr>\n",
       "    <tr>\n",
       "      <th>877</th>\n",
       "      <td>False</td>\n",
       "      <td>False</td>\n",
       "      <td>False</td>\n",
       "      <td>False</td>\n",
       "      <td>False</td>\n",
       "      <td>False</td>\n",
       "      <td>False</td>\n",
       "      <td>False</td>\n",
       "      <td>False</td>\n",
       "      <td>False</td>\n",
       "      <td>True</td>\n",
       "      <td>False</td>\n",
       "    </tr>\n",
       "    <tr>\n",
       "      <th>878</th>\n",
       "      <td>False</td>\n",
       "      <td>False</td>\n",
       "      <td>False</td>\n",
       "      <td>False</td>\n",
       "      <td>False</td>\n",
       "      <td>True</td>\n",
       "      <td>False</td>\n",
       "      <td>False</td>\n",
       "      <td>False</td>\n",
       "      <td>False</td>\n",
       "      <td>True</td>\n",
       "      <td>False</td>\n",
       "    </tr>\n",
       "    <tr>\n",
       "      <th>879</th>\n",
       "      <td>False</td>\n",
       "      <td>False</td>\n",
       "      <td>False</td>\n",
       "      <td>False</td>\n",
       "      <td>False</td>\n",
       "      <td>False</td>\n",
       "      <td>False</td>\n",
       "      <td>False</td>\n",
       "      <td>False</td>\n",
       "      <td>False</td>\n",
       "      <td>False</td>\n",
       "      <td>False</td>\n",
       "    </tr>\n",
       "    <tr>\n",
       "      <th>880</th>\n",
       "      <td>False</td>\n",
       "      <td>False</td>\n",
       "      <td>False</td>\n",
       "      <td>False</td>\n",
       "      <td>False</td>\n",
       "      <td>False</td>\n",
       "      <td>False</td>\n",
       "      <td>False</td>\n",
       "      <td>False</td>\n",
       "      <td>False</td>\n",
       "      <td>True</td>\n",
       "      <td>False</td>\n",
       "    </tr>\n",
       "    <tr>\n",
       "      <th>881</th>\n",
       "      <td>False</td>\n",
       "      <td>False</td>\n",
       "      <td>False</td>\n",
       "      <td>False</td>\n",
       "      <td>False</td>\n",
       "      <td>False</td>\n",
       "      <td>False</td>\n",
       "      <td>False</td>\n",
       "      <td>False</td>\n",
       "      <td>False</td>\n",
       "      <td>True</td>\n",
       "      <td>False</td>\n",
       "    </tr>\n",
       "    <tr>\n",
       "      <th>882</th>\n",
       "      <td>False</td>\n",
       "      <td>False</td>\n",
       "      <td>False</td>\n",
       "      <td>False</td>\n",
       "      <td>False</td>\n",
       "      <td>False</td>\n",
       "      <td>False</td>\n",
       "      <td>False</td>\n",
       "      <td>False</td>\n",
       "      <td>False</td>\n",
       "      <td>True</td>\n",
       "      <td>False</td>\n",
       "    </tr>\n",
       "    <tr>\n",
       "      <th>883</th>\n",
       "      <td>False</td>\n",
       "      <td>False</td>\n",
       "      <td>False</td>\n",
       "      <td>False</td>\n",
       "      <td>False</td>\n",
       "      <td>False</td>\n",
       "      <td>False</td>\n",
       "      <td>False</td>\n",
       "      <td>False</td>\n",
       "      <td>False</td>\n",
       "      <td>True</td>\n",
       "      <td>False</td>\n",
       "    </tr>\n",
       "    <tr>\n",
       "      <th>884</th>\n",
       "      <td>False</td>\n",
       "      <td>False</td>\n",
       "      <td>False</td>\n",
       "      <td>False</td>\n",
       "      <td>False</td>\n",
       "      <td>False</td>\n",
       "      <td>False</td>\n",
       "      <td>False</td>\n",
       "      <td>False</td>\n",
       "      <td>False</td>\n",
       "      <td>True</td>\n",
       "      <td>False</td>\n",
       "    </tr>\n",
       "    <tr>\n",
       "      <th>885</th>\n",
       "      <td>False</td>\n",
       "      <td>False</td>\n",
       "      <td>False</td>\n",
       "      <td>False</td>\n",
       "      <td>False</td>\n",
       "      <td>False</td>\n",
       "      <td>False</td>\n",
       "      <td>False</td>\n",
       "      <td>False</td>\n",
       "      <td>False</td>\n",
       "      <td>True</td>\n",
       "      <td>False</td>\n",
       "    </tr>\n",
       "    <tr>\n",
       "      <th>886</th>\n",
       "      <td>False</td>\n",
       "      <td>False</td>\n",
       "      <td>False</td>\n",
       "      <td>False</td>\n",
       "      <td>False</td>\n",
       "      <td>False</td>\n",
       "      <td>False</td>\n",
       "      <td>False</td>\n",
       "      <td>False</td>\n",
       "      <td>False</td>\n",
       "      <td>True</td>\n",
       "      <td>False</td>\n",
       "    </tr>\n",
       "    <tr>\n",
       "      <th>887</th>\n",
       "      <td>False</td>\n",
       "      <td>False</td>\n",
       "      <td>False</td>\n",
       "      <td>False</td>\n",
       "      <td>False</td>\n",
       "      <td>False</td>\n",
       "      <td>False</td>\n",
       "      <td>False</td>\n",
       "      <td>False</td>\n",
       "      <td>False</td>\n",
       "      <td>False</td>\n",
       "      <td>False</td>\n",
       "    </tr>\n",
       "    <tr>\n",
       "      <th>888</th>\n",
       "      <td>False</td>\n",
       "      <td>False</td>\n",
       "      <td>False</td>\n",
       "      <td>False</td>\n",
       "      <td>False</td>\n",
       "      <td>True</td>\n",
       "      <td>False</td>\n",
       "      <td>False</td>\n",
       "      <td>False</td>\n",
       "      <td>False</td>\n",
       "      <td>True</td>\n",
       "      <td>False</td>\n",
       "    </tr>\n",
       "    <tr>\n",
       "      <th>889</th>\n",
       "      <td>False</td>\n",
       "      <td>False</td>\n",
       "      <td>False</td>\n",
       "      <td>False</td>\n",
       "      <td>False</td>\n",
       "      <td>False</td>\n",
       "      <td>False</td>\n",
       "      <td>False</td>\n",
       "      <td>False</td>\n",
       "      <td>False</td>\n",
       "      <td>False</td>\n",
       "      <td>False</td>\n",
       "    </tr>\n",
       "    <tr>\n",
       "      <th>890</th>\n",
       "      <td>False</td>\n",
       "      <td>False</td>\n",
       "      <td>False</td>\n",
       "      <td>False</td>\n",
       "      <td>False</td>\n",
       "      <td>False</td>\n",
       "      <td>False</td>\n",
       "      <td>False</td>\n",
       "      <td>False</td>\n",
       "      <td>False</td>\n",
       "      <td>True</td>\n",
       "      <td>False</td>\n",
       "    </tr>\n",
       "  </tbody>\n",
       "</table>\n",
       "<p>891 rows × 12 columns</p>\n",
       "</div>"
      ],
      "text/plain": [
       "     PassengerId  Survived  Pclass   Name    Sex    Age  SibSp  Parch  Ticket  \\\n",
       "0          False     False   False  False  False  False  False  False   False   \n",
       "1          False     False   False  False  False  False  False  False   False   \n",
       "2          False     False   False  False  False  False  False  False   False   \n",
       "3          False     False   False  False  False  False  False  False   False   \n",
       "4          False     False   False  False  False  False  False  False   False   \n",
       "5          False     False   False  False  False   True  False  False   False   \n",
       "6          False     False   False  False  False  False  False  False   False   \n",
       "7          False     False   False  False  False  False  False  False   False   \n",
       "8          False     False   False  False  False  False  False  False   False   \n",
       "9          False     False   False  False  False  False  False  False   False   \n",
       "10         False     False   False  False  False  False  False  False   False   \n",
       "11         False     False   False  False  False  False  False  False   False   \n",
       "12         False     False   False  False  False  False  False  False   False   \n",
       "13         False     False   False  False  False  False  False  False   False   \n",
       "14         False     False   False  False  False  False  False  False   False   \n",
       "15         False     False   False  False  False  False  False  False   False   \n",
       "16         False     False   False  False  False  False  False  False   False   \n",
       "17         False     False   False  False  False   True  False  False   False   \n",
       "18         False     False   False  False  False  False  False  False   False   \n",
       "19         False     False   False  False  False   True  False  False   False   \n",
       "20         False     False   False  False  False  False  False  False   False   \n",
       "21         False     False   False  False  False  False  False  False   False   \n",
       "22         False     False   False  False  False  False  False  False   False   \n",
       "23         False     False   False  False  False  False  False  False   False   \n",
       "24         False     False   False  False  False  False  False  False   False   \n",
       "25         False     False   False  False  False  False  False  False   False   \n",
       "26         False     False   False  False  False   True  False  False   False   \n",
       "27         False     False   False  False  False  False  False  False   False   \n",
       "28         False     False   False  False  False   True  False  False   False   \n",
       "29         False     False   False  False  False   True  False  False   False   \n",
       "..           ...       ...     ...    ...    ...    ...    ...    ...     ...   \n",
       "861        False     False   False  False  False  False  False  False   False   \n",
       "862        False     False   False  False  False  False  False  False   False   \n",
       "863        False     False   False  False  False   True  False  False   False   \n",
       "864        False     False   False  False  False  False  False  False   False   \n",
       "865        False     False   False  False  False  False  False  False   False   \n",
       "866        False     False   False  False  False  False  False  False   False   \n",
       "867        False     False   False  False  False  False  False  False   False   \n",
       "868        False     False   False  False  False   True  False  False   False   \n",
       "869        False     False   False  False  False  False  False  False   False   \n",
       "870        False     False   False  False  False  False  False  False   False   \n",
       "871        False     False   False  False  False  False  False  False   False   \n",
       "872        False     False   False  False  False  False  False  False   False   \n",
       "873        False     False   False  False  False  False  False  False   False   \n",
       "874        False     False   False  False  False  False  False  False   False   \n",
       "875        False     False   False  False  False  False  False  False   False   \n",
       "876        False     False   False  False  False  False  False  False   False   \n",
       "877        False     False   False  False  False  False  False  False   False   \n",
       "878        False     False   False  False  False   True  False  False   False   \n",
       "879        False     False   False  False  False  False  False  False   False   \n",
       "880        False     False   False  False  False  False  False  False   False   \n",
       "881        False     False   False  False  False  False  False  False   False   \n",
       "882        False     False   False  False  False  False  False  False   False   \n",
       "883        False     False   False  False  False  False  False  False   False   \n",
       "884        False     False   False  False  False  False  False  False   False   \n",
       "885        False     False   False  False  False  False  False  False   False   \n",
       "886        False     False   False  False  False  False  False  False   False   \n",
       "887        False     False   False  False  False  False  False  False   False   \n",
       "888        False     False   False  False  False   True  False  False   False   \n",
       "889        False     False   False  False  False  False  False  False   False   \n",
       "890        False     False   False  False  False  False  False  False   False   \n",
       "\n",
       "      Fare  Cabin  Embarked  \n",
       "0    False   True     False  \n",
       "1    False  False     False  \n",
       "2    False   True     False  \n",
       "3    False  False     False  \n",
       "4    False   True     False  \n",
       "5    False   True     False  \n",
       "6    False  False     False  \n",
       "7    False   True     False  \n",
       "8    False   True     False  \n",
       "9    False   True     False  \n",
       "10   False  False     False  \n",
       "11   False  False     False  \n",
       "12   False   True     False  \n",
       "13   False   True     False  \n",
       "14   False   True     False  \n",
       "15   False   True     False  \n",
       "16   False   True     False  \n",
       "17   False   True     False  \n",
       "18   False   True     False  \n",
       "19   False   True     False  \n",
       "20   False   True     False  \n",
       "21   False  False     False  \n",
       "22   False   True     False  \n",
       "23   False  False     False  \n",
       "24   False   True     False  \n",
       "25   False   True     False  \n",
       "26   False   True     False  \n",
       "27   False  False     False  \n",
       "28   False   True     False  \n",
       "29   False   True     False  \n",
       "..     ...    ...       ...  \n",
       "861  False   True     False  \n",
       "862  False  False     False  \n",
       "863  False   True     False  \n",
       "864  False   True     False  \n",
       "865  False   True     False  \n",
       "866  False   True     False  \n",
       "867  False  False     False  \n",
       "868  False   True     False  \n",
       "869  False   True     False  \n",
       "870  False   True     False  \n",
       "871  False  False     False  \n",
       "872  False  False     False  \n",
       "873  False   True     False  \n",
       "874  False   True     False  \n",
       "875  False   True     False  \n",
       "876  False   True     False  \n",
       "877  False   True     False  \n",
       "878  False   True     False  \n",
       "879  False  False     False  \n",
       "880  False   True     False  \n",
       "881  False   True     False  \n",
       "882  False   True     False  \n",
       "883  False   True     False  \n",
       "884  False   True     False  \n",
       "885  False   True     False  \n",
       "886  False   True     False  \n",
       "887  False  False     False  \n",
       "888  False   True     False  \n",
       "889  False  False     False  \n",
       "890  False   True     False  \n",
       "\n",
       "[891 rows x 12 columns]"
      ]
     },
     "execution_count": 63,
     "metadata": {},
     "output_type": "execute_result"
    }
   ],
   "source": [
    "titanic_data.isnull()"
   ]
  },
  {
   "cell_type": "code",
   "execution_count": 64,
   "metadata": {},
   "outputs": [
    {
     "data": {
      "text/plain": [
       "PassengerId      0\n",
       "Survived         0\n",
       "Pclass           0\n",
       "Name             0\n",
       "Sex              0\n",
       "Age            177\n",
       "SibSp            0\n",
       "Parch            0\n",
       "Ticket           0\n",
       "Fare             0\n",
       "Cabin          687\n",
       "Embarked         2\n",
       "dtype: int64"
      ]
     },
     "execution_count": 64,
     "metadata": {},
     "output_type": "execute_result"
    }
   ],
   "source": [
    "titanic_data.isnull().sum()"
   ]
  },
  {
   "cell_type": "code",
   "execution_count": 65,
   "metadata": {},
   "outputs": [
    {
     "data": {
      "text/plain": [
       "<matplotlib.axes._subplots.AxesSubplot at 0x26190004860>"
      ]
     },
     "execution_count": 65,
     "metadata": {},
     "output_type": "execute_result"
    },
    {
     "data": {
      "image/png": "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\n",
      "text/plain": [
       "<Figure size 432x288 with 2 Axes>"
      ]
     },
     "metadata": {
      "needs_background": "light"
     },
     "output_type": "display_data"
    }
   ],
   "source": [
    "sns.heatmap(titanic_data.isnull())"
   ]
  },
  {
   "cell_type": "code",
   "execution_count": 66,
   "metadata": {},
   "outputs": [
    {
     "data": {
      "text/plain": [
       "<matplotlib.axes._subplots.AxesSubplot at 0x2619009dda0>"
      ]
     },
     "execution_count": 66,
     "metadata": {},
     "output_type": "execute_result"
    },
    {
     "data": {
      "image/png": "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\n",
      "text/plain": [
       "<Figure size 432x288 with 2 Axes>"
      ]
     },
     "metadata": {
      "needs_background": "light"
     },
     "output_type": "display_data"
    }
   ],
   "source": [
    "sns.heatmap(titanic_data.isnull(),yticklabels=False,cmap='Blues')"
   ]
  },
  {
   "cell_type": "markdown",
   "metadata": {},
   "source": [
    "TESTING heatmap"
   ]
  },
  {
   "cell_type": "code",
   "execution_count": 67,
   "metadata": {},
   "outputs": [
    {
     "data": {
      "text/plain": [
       "<matplotlib.axes._subplots.AxesSubplot at 0x2619010c828>"
      ]
     },
     "execution_count": 67,
     "metadata": {},
     "output_type": "execute_result"
    },
    {
     "data": {
      "image/png": "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\n",
      "text/plain": [
       "<Figure size 432x288 with 2 Axes>"
      ]
     },
     "metadata": {
      "needs_background": "light"
     },
     "output_type": "display_data"
    }
   ],
   "source": [
    "normal_data=np.random.randn(10,12)\n",
    "sns.heatmap(normal_data,cmap=\"YlGnBu\")"
   ]
  },
  {
   "cell_type": "code",
   "execution_count": 68,
   "metadata": {},
   "outputs": [
    {
     "data": {
      "text/plain": [
       "<matplotlib.axes._subplots.AxesSubplot at 0x261901c8e48>"
      ]
     },
     "execution_count": 68,
     "metadata": {},
     "output_type": "execute_result"
    },
    {
     "data": {
      "image/png": "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\n",
      "text/plain": [
       "<Figure size 432x288 with 1 Axes>"
      ]
     },
     "metadata": {
      "needs_background": "light"
     },
     "output_type": "display_data"
    }
   ],
   "source": [
    "sns.boxplot(data=titanic_data,x='PassengerId',orient='v',width=0.2)"
   ]
  },
  {
   "cell_type": "code",
   "execution_count": 69,
   "metadata": {},
   "outputs": [
    {
     "data": {
      "text/plain": [
       "<matplotlib.axes._subplots.AxesSubplot at 0x26190208dd8>"
      ]
     },
     "execution_count": 69,
     "metadata": {},
     "output_type": "execute_result"
    },
    {
     "data": {
      "image/png": "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\n",
      "text/plain": [
       "<Figure size 432x288 with 1 Axes>"
      ]
     },
     "metadata": {
      "needs_background": "light"
     },
     "output_type": "display_data"
    }
   ],
   "source": [
    "sns.boxplot(data=titanic_data)"
   ]
  },
  {
   "cell_type": "code",
   "execution_count": 70,
   "metadata": {},
   "outputs": [
    {
     "data": {
      "text/plain": [
       "<matplotlib.axes._subplots.AxesSubplot at 0x261902ab550>"
      ]
     },
     "execution_count": 70,
     "metadata": {},
     "output_type": "execute_result"
    },
    {
     "data": {
      "image/png": "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\n",
      "text/plain": [
       "<Figure size 432x288 with 1 Axes>"
      ]
     },
     "metadata": {},
     "output_type": "display_data"
    }
   ],
   "source": [
    "sns.set(style='white')\n",
    "sns.boxplot(data=titanic_data,x='Pclass',y='Age')"
   ]
  },
  {
   "cell_type": "code",
   "execution_count": 71,
   "metadata": {},
   "outputs": [
    {
     "data": {
      "text/html": [
       "<div>\n",
       "<style scoped>\n",
       "    .dataframe tbody tr th:only-of-type {\n",
       "        vertical-align: middle;\n",
       "    }\n",
       "\n",
       "    .dataframe tbody tr th {\n",
       "        vertical-align: top;\n",
       "    }\n",
       "\n",
       "    .dataframe thead th {\n",
       "        text-align: right;\n",
       "    }\n",
       "</style>\n",
       "<table border=\"1\" class=\"dataframe\">\n",
       "  <thead>\n",
       "    <tr style=\"text-align: right;\">\n",
       "      <th></th>\n",
       "      <th>PassengerId</th>\n",
       "      <th>Survived</th>\n",
       "      <th>Pclass</th>\n",
       "      <th>Name</th>\n",
       "      <th>Sex</th>\n",
       "      <th>Age</th>\n",
       "      <th>SibSp</th>\n",
       "      <th>Parch</th>\n",
       "      <th>Ticket</th>\n",
       "      <th>Fare</th>\n",
       "      <th>Cabin</th>\n",
       "      <th>Embarked</th>\n",
       "    </tr>\n",
       "  </thead>\n",
       "  <tbody>\n",
       "    <tr>\n",
       "      <th>0</th>\n",
       "      <td>1</td>\n",
       "      <td>0</td>\n",
       "      <td>3</td>\n",
       "      <td>Braund, Mr. Owen Harris</td>\n",
       "      <td>male</td>\n",
       "      <td>22.0</td>\n",
       "      <td>1</td>\n",
       "      <td>0</td>\n",
       "      <td>A/5 21171</td>\n",
       "      <td>7.2500</td>\n",
       "      <td>NaN</td>\n",
       "      <td>S</td>\n",
       "    </tr>\n",
       "    <tr>\n",
       "      <th>1</th>\n",
       "      <td>2</td>\n",
       "      <td>1</td>\n",
       "      <td>1</td>\n",
       "      <td>Cumings, Mrs. John Bradley (Florence Briggs Th...</td>\n",
       "      <td>female</td>\n",
       "      <td>38.0</td>\n",
       "      <td>1</td>\n",
       "      <td>0</td>\n",
       "      <td>PC 17599</td>\n",
       "      <td>71.2833</td>\n",
       "      <td>C85</td>\n",
       "      <td>C</td>\n",
       "    </tr>\n",
       "    <tr>\n",
       "      <th>2</th>\n",
       "      <td>3</td>\n",
       "      <td>1</td>\n",
       "      <td>3</td>\n",
       "      <td>Heikkinen, Miss. Laina</td>\n",
       "      <td>female</td>\n",
       "      <td>26.0</td>\n",
       "      <td>0</td>\n",
       "      <td>0</td>\n",
       "      <td>STON/O2. 3101282</td>\n",
       "      <td>7.9250</td>\n",
       "      <td>NaN</td>\n",
       "      <td>S</td>\n",
       "    </tr>\n",
       "    <tr>\n",
       "      <th>3</th>\n",
       "      <td>4</td>\n",
       "      <td>1</td>\n",
       "      <td>1</td>\n",
       "      <td>Futrelle, Mrs. Jacques Heath (Lily May Peel)</td>\n",
       "      <td>female</td>\n",
       "      <td>35.0</td>\n",
       "      <td>1</td>\n",
       "      <td>0</td>\n",
       "      <td>113803</td>\n",
       "      <td>53.1000</td>\n",
       "      <td>C123</td>\n",
       "      <td>S</td>\n",
       "    </tr>\n",
       "    <tr>\n",
       "      <th>4</th>\n",
       "      <td>5</td>\n",
       "      <td>0</td>\n",
       "      <td>3</td>\n",
       "      <td>Allen, Mr. William Henry</td>\n",
       "      <td>male</td>\n",
       "      <td>35.0</td>\n",
       "      <td>0</td>\n",
       "      <td>0</td>\n",
       "      <td>373450</td>\n",
       "      <td>8.0500</td>\n",
       "      <td>NaN</td>\n",
       "      <td>S</td>\n",
       "    </tr>\n",
       "  </tbody>\n",
       "</table>\n",
       "</div>"
      ],
      "text/plain": [
       "   PassengerId  Survived  Pclass  \\\n",
       "0            1         0       3   \n",