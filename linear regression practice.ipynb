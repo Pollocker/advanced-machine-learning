{
 "cells": [
  {
   "cell_type": "markdown",
   "metadata": {},
   "source": [
    "# Linear Regression"
   ]
  },
  {
   "cell_type": "code",
   "execution_count": 152,
   "metadata": {},
   "outputs": [],
   "source": [
    "import numpy as np\n",
    "import pandas as pd\n",
    "import matplotlib.pyplot as plt"
   ]
  },
  {
   "cell_type": "code",
   "execution_count": 153,
   "metadata": {},
   "outputs": [],
   "source": [
    "data = pd.read_csv('headbrain.csv')"
   ]
  },
  {
   "cell_type": "code",
   "execution_count": 154,
   "metadata": {},
   "outputs": [
    {
     "data": {
      "text/html": [
       "<div>\n",
       "<style scoped>\n",
       "    .dataframe tbody tr th:only-of-type {\n",
       "        vertical-align: middle;\n",
       "    }\n",
       "\n",
       "    .dataframe tbody tr th {\n",
       "        vertical-align: top;\n",
       "    }\n",
       "\n",
       "    .dataframe thead th {\n",
       "        text-align: right;\n",
       "    }\n",
       "</style>\n",
       "<table border=\"1\" class=\"dataframe\">\n",
       "  <thead>\n",
       "    <tr style=\"text-align: right;\">\n",
       "      <th></th>\n",
       "      <th>Gender</th>\n",
       "      <th>Age Range</th>\n",
       "      <th>Head Size(cm^3)</th>\n",
       "      <th>Brain Weight(grams)</th>\n",
       "    </tr>\n",
       "  </thead>\n",
       "  <tbody>\n",
       "    <tr>\n",
       "      <th>0</th>\n",
       "      <td>1</td>\n",
       "      <td>1</td>\n",
       "      <td>4512</td>\n",
       "      <td>1530</td>\n",
       "    </tr>\n",
       "    <tr>\n",
       "      <th>1</th>\n",
       "      <td>1</td>\n",
       "      <td>1</td>\n",
       "      <td>3738</td>\n",
       "      <td>1297</td>\n",
       "    </tr>\n",
       "    <tr>\n",
       "      <th>2</th>\n",
       "      <td>1</td>\n",
       "      <td>1</td>\n",
       "      <td>4261</td>\n",
       "      <td>1335</td>\n",
       "    </tr>\n",
       "    <tr>\n",
       "      <th>3</th>\n",
       "      <td>1</td>\n",
       "      <td>1</td>\n",
       "      <td>3777</td>\n",
       "      <td>1282</td>\n",
       "    </tr>\n",
       "    <tr>\n",
       "      <th>4</th>\n",
       "      <td>1</td>\n",
       "      <td>1</td>\n",
       "      <td>4177</td>\n",
       "      <td>1590</td>\n",
       "    </tr>\n",
       "  </tbody>\n",
       "</table>\n",
       "</div>"
      ],
      "text/plain": [
       "   Gender  Age Range  Head Size(cm^3)  Brain Weight(grams)\n",
       "0       1          1             4512                 1530\n",
       "1       1          1             3738                 1297\n",
       "2       1          1             4261                 1335\n",
       "3       1          1             3777                 1282\n",
       "4       1          1             4177                 1590"
      ]
     },
     "execution_count": 154,
     "metadata": {},
     "output_type": "execute_result"
    }
   ],
   "source": [
    "data.head(5)"
   ]
  },
  {
   "cell_type": "code",
   "execution_count": 155,
   "metadata": {},
   "outputs": [
    {
     "data": {
      "text/plain": [
       "(237, 4)"
      ]
     },
     "execution_count": 155,
     "metadata": {},
     "output_type": "execute_result"
    }
   ],
   "source": [
    "data.shape"
   ]
  },
  {
   "cell_type": "code",
   "execution_count": 156,
   "metadata": {},
   "outputs": [
    {
     "data": {
      "text/plain": [
       "Index([u'Gender', u'Age Range', u'Head Size(cm^3)', u'Brain Weight(grams)'], dtype='object')"
      ]
     },
     "execution_count": 156,
     "metadata": {},
     "output_type": "execute_result"
    }
   ],
   "source": [
    "data.columns"
   ]
  },
  {
   "cell_type": "markdown",
   "metadata": {},
   "source": [
    "collecting x and y values"
   ]
  },
  {
   "cell_type": "code",
   "execution_count": 157,
   "metadata": {},
   "outputs": [],
   "source": [
    "x = data['Head Size(cm^3)'].values\n",
    "y = data['Brain Weight(grams)'].values"
   ]
  },
  {
   "cell_type": "code",
   "execution_count": 158,
   "metadata": {},
   "outputs": [
    {
     "data": {
      "text/plain": [
       "array([4512, 3738, 4261, 3777, 4177, 3585, 3785, 3559, 3613, 3982, 3443,\n",
       "       3993, 3640, 4208, 3832, 3876, 3497, 3466, 3095, 4424, 3878, 4046,\n",
       "       3804, 3710, 4747, 4423, 4036, 4022, 3454, 4175, 3787, 3796, 4103,\n",
       "       4161, 4158, 3814, 3527, 3748, 3334, 3492, 3962, 3505, 4315, 3804,\n",
       "       3863, 4034, 4308, 3165, 3641, 3644, 3891, 3793, 4270, 4063, 4012,\n",
       "       3458, 3890, 4166, 3935, 3669, 3866, 3393, 4442, 4253, 3727, 3329,\n",
       "       3415, 3372, 4430, 4381, 4008, 3858, 4121, 4057, 3824, 3394, 3558,\n",
       "       3362, 3930, 3835, 3830, 3856, 3249, 3577, 3933, 3850, 3309, 3406,\n",
       "       3506, 3907, 4160, 3318, 3662, 3899, 3700, 3779, 3473, 3490, 3654,\n",
       "       3478, 3495, 3834, 3876, 3661, 3618, 3648, 4032, 3399, 3916, 4430,\n",
       "       3695, 3524, 3571, 3594, 3383, 3499, 3589, 3900, 4114, 3937, 3399,\n",
       "       4200, 4488, 3614, 4051, 3782, 3391, 3124, 4053, 3582, 3666, 3532,\n",
       "       4046, 3667, 2857, 3436, 3791, 3302, 3104, 3171, 3572, 3530, 3175,\n",
       "       3438, 3903, 3899, 3401, 3267, 3451, 3090, 3413, 3323, 3680, 3439,\n",
       "       3853, 3156, 3279, 3707, 4006, 3269, 3071, 3779, 3548, 3292, 3497,\n",
       "       3082, 3248, 3358, 3803, 3566, 3145, 3503, 3571, 3724, 3615, 3203,\n",
       "       3609, 3561, 3979, 3533, 3689, 3158, 4005, 3181, 3479, 3642, 3632,\n",
       "       3069, 3394, 3703, 3165, 3354, 3000, 3687, 3556, 2773, 3058, 3344,\n",
       "       3493, 3297, 3360, 3228, 3277, 3851, 3067, 3692, 3402, 3995, 3318,\n",
       "       2720, 2937, 3580, 2939, 2989, 3586, 3156, 3246, 3170, 3268, 3389,\n",
       "       3381, 2864, 3740, 3479, 3647, 3716, 3284, 4204, 3735, 3218, 3685,\n",
       "       3704, 3214, 3394, 3233, 3352, 3391], dtype=int64)"
      ]
     },
     "execution_count": 158,
     "metadata": {},
     "output_type": "execute_result"
    }
   ],
   "source": [
    "x"
   ]
  },
  {
   "cell_type": "markdown",
   "metadata": {},
   "source": [
    "### mean calculation"
   ]
  },
  {
   "cell_type": "code",
   "execution_count": 159,
   "metadata": {},
   "outputs": [],
   "source": [
    "x_mean = np.mean(x)\n",
    "y_mean = np.mean(y)"
   ]
  },
  {
   "cell_type": "code",
   "execution_count": 160,
   "metadata": {},
   "outputs": [
    {
     "data": {
      "text/plain": [
       "3633.9915611814345"
      ]
     },
     "execution_count": 160,
     "metadata": {},
     "output_type": "execute_result"
    }
   ],
   "source": [
    "x_mean"
   ]
  },
  {
   "cell_type": "code",
   "execution_count": 161,
   "metadata": {},
   "outputs": [
    {
     "data": {
      "text/plain": [
       "1282.873417721519"
      ]
     },
     "execution_count": 161,
     "metadata": {},
     "output_type": "execute_result"
    }
   ],
   "source": [
    "y_mean"
   ]
  },
  {
   "cell_type": "markdown",
   "metadata": {},
   "source": [
    "### total number of values"
   ]
  },
  {
   "cell_type": "code",
   "execution_count": 162,
   "metadata": {},
   "outputs": [],
   "source": [
    "n = len(x)"
   ]
  },
  {
   "cell_type": "code",
   "execution_count": 163,
   "metadata": {},
   "outputs": [
    {
     "data": {
      "text/plain": [
       "237"
      ]
     },
     "execution_count": 163,
     "metadata": {},
     "output_type": "execute_result"
    }
   ],
   "source": [
    "n"
   ]
  },
  {
   "cell_type": "code",
   "execution_count": 164,
   "metadata": {},
   "outputs": [
    {
     "data": {
      "text/plain": [
       "16"
      ]
     },
     "execution_count": 164,
     "metadata": {},
     "output_type": "execute_result"
    }
   ],
   "source": [
    "np.power(2,4)"
   ]
  },
  {
   "cell_type": "markdown",
   "metadata": {},
   "source": [
    "### using the formula to calculate b0 (slope) and b1(intercept)"
   ]
  },
  {
   "cell_type": "code",
   "execution_count": 165,
   "metadata": {},
   "outputs": [
    {
     "name": "stdout",
     "output_type": "stream",
     "text": [
      "0.26342933948939945\n"
     ]
    }
   ],
   "source": [
    "up = 0\n",
    "down = 0\n",
    "sum = 0\n",
    "square_sum = 0\n",
    "for i in range(n):\n",
    "    x_diff = x[i] - x_mean\n",
    "    y_diff = y[i] - y_mean\n",
    "    sum = sum + (x_diff * y_diff)\n",
    "    square_sum = square_sum + np.power(x_diff,2)\n",
    "\n",
    "slope = sum / square_sum\n",
    "print(slope)"
   ]
  },
  {
   "cell_type": "markdown",
   "metadata": {},
   "source": [
    "### to find intercept"
   ]
  },
  {
   "cell_type": "code",
   "execution_count": 166,
   "metadata": {},
   "outputs": [
    {
     "name": "stdout",
     "output_type": "stream",
     "text": [
      "341.40682022382975\n",
      "325.57342104944223\n"
     ]
    }
   ],
   "source": [
    "#y=mx+c\n",
    "#c=y-mx\n",
    "\n",
    "intercept = y[0] - slope * x[0]\n",
    "intercept1 = y_mean - slope * x_mean\n",
    "print(intercept)\n",
    "print(intercept1)"
   ]
  },
  {
   "cell_type": "code",
   "execution_count": 167,
   "metadata": {},
   "outputs": [
    {
     "name": "stdout",
     "output_type": "stream",
     "text": [
      "('slope is:', 0.26342933948939945, 'intercept is:', 325.57342104944223)\n"
     ]
    }
   ],
   "source": [
    "print('slope is:',slope,'intercept is:',intercept1)"
   ]
  },
  {
   "cell_type": "markdown",
   "metadata": {},
   "source": [
    "### Our line of best fit is:"
   ]
  },
  {
   "cell_type": "markdown",
   "metadata": {},
   "source": [
    "### y=mx+c\n",
    "brainWeight = slope * headSize + intercept\n",
    "\n",
    "brainWeight = 0.26342933948939945 * headSize + 325.57342104944223 "
   ]
  },
  {
   "cell_type": "code",
   "execution_count": 168,
   "metadata": {},
   "outputs": [
    {
     "data": {
      "text/plain": [
       "1320.546036300904"
      ]
     },
     "execution_count": 168,
     "metadata": {},
     "output_type": "execute_result"
    }
   ],
   "source": [
    "bw = 0.26342933948939945 * 3777 + 325.57342104944223\n",
    "bw"
   ]
  },
  {
   "cell_type": "markdown",
   "metadata": {},
   "source": [
    "# plotting"
   ]
  },
  {
   "cell_type": "code",
   "execution_count": 169,
   "metadata": {},
   "outputs": [],
   "source": [
    "max_x = np.max(x) + 100\n",
    "min_x = np.min(x) - 100"
   ]
  },
  {
   "cell_type": "code",
   "execution_count": 179,
   "metadata": {},
   "outputs": [
    {
     "name": "stdout",
     "output_type": "stream",
     "text": [
      "4847\n",
      "2620\n"
     ]
    }
   ],
   "source": [
    "print(max_x)\n",
    "print(min_x)"
   ]
  },
  {
   "cell_type": "code",
   "execution_count": 172,
   "metadata": {},
   "outputs": [],
   "source": [
    "x1 = np.linspace(min_x,max_x,1000)\n",
    "y1 = intercept + slope * x1"
   ]
  },
  {
   "cell_type": "code",
   "execution_count": 173,
   "metadata": {},
   "outputs": [
    {
     "data": {
      "text/plain": [
       "<function matplotlib.pyplot.show>"
      ]
     },
     "execution_count": 173,
     "metadata": {},
     "output_type": "execute_result"
    },
    {
     "data": {
      "image/png": "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